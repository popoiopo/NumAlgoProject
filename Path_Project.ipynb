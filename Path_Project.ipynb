{
 "cells": [
  {
   "cell_type": "markdown",
   "metadata": {},
   "source": [
    "Please **submit this Jupyter notebook through Canvas** no later than **Friday December 14, 10:59**, before the start of the lecture.\n",
    "\n",
    "The final project is in **groups of three**, and you are expected to hand in original work. Work that is copied from another group will not be accepted.\n",
    "\n",
    "A single, jointly written report for each group is fine. All members in a group will receive the same grade."
   ]
  },
  {
   "cell_type": "markdown",
   "metadata": {},
   "source": [
    "# Exercise 0\n",
    "Write down the names + student ID of the people in your group."
   ]
  },
  {
   "cell_type": "markdown",
   "metadata": {},
   "source": []
  },
  {
   "cell_type": "markdown",
   "metadata": {},
   "source": [
    "----\n",
    "# Project keywords\n",
    "Optimization, time integration"
   ]
  },
  {
   "cell_type": "markdown",
   "metadata": {},
   "source": [
    "----\n",
    "# Project description\n",
    "In various fields of application (e.g. physics, chemistry, biology), modeling systems as noise-driven motion in a potential landscape has been very successful. Such systems can spend most of their time in or near the bottom of a potential well, and are occasionally triggered by the noise to \"hop over\" to another well. How frequently such transitions occur depends on the noise amplitude. With small noise, transitions occur very infrequently (\"rare events\"), and the potential wells correspond to preferred states or metastable states of the system. Think of the phenomenon of protein folding, with the folded and unfolded states as metastable states.\n",
    "\n",
    "If the noise is small and the potential smooth, transitions typically follow \\textit{minimum energy paths}. An important question is what these paths look like. Answering this question by forward time integration is impractical or even impossible if the transitions are rare (in which case excessively long integrations would be needed to observe just one or a few transitions). Instead, one can try to compute the paths directly using minimization.\n",
    "\n",
    "The following potential, with $(x_1,x_2) = \\mathbf{x} \\in \\mathbb{R}^2$, is frequently used in this context:\n",
    "$$V(x_1,x_2) = \\sum_{i=1}^4 A_i \\, \\exp \\left( a_i(x_1-\\bar x_1^{(i)})^2 + b_i(x_1-\\bar x_1^{(i)})(x_2-\\bar x_2^{(i)} ) + c_i (x_2-\\bar x_2^{(i)})^2 \\right)$$\n",
    "with constants \n",
    "$$\\{A_i \\}=(-200,-100,-170,15), \\{a_i \\} = (-1, -1, -6.5, 0.7), \\{ b_i \\}=(0, 0, 11, 0.6), $$\n",
    "$$\\{ c_i \\} = (-10, -10, -6.5, 0.7), \\{ \\bar x_1^{(i)} \\} = (1, 0, -0.5, -1), \\{ \\bar x_2^{(i)} \\} = (0, 0.5, 1.5, 1).$$\n",
    "\n",
    "This potential has three local minima, these can be found by minimization. If we have two states $\\mathbf{A}$ and $\\mathbf{B}$ and we want to compute the minimum energy path that connects them, we can create a chain of $N+1$ states $\\{ \\mathbf{x}_0, \\mathbf{x}_1, ..., \\mathbf{x}_N \\}$ with $\\mathbf{x}_0=\\mathbf{A}$ and $\\mathbf{x}_N=\\mathbf{B}$, and define the energy of the chain as\n",
    "$$E(\\mathbf{x}_0, \\mathbf{x}_1, ..., \\mathbf{x}_N) = \\sum_{j=0}^N V(\\mathbf{x}_j) + \\frac12 k \\sum_{j=1}^N \\| \\mathbf{x}_j-\\mathbf{x}_{j-1} \\|_2^2.$$\n",
    "\n",
    "By minimizing $E$ over the coordinates of the states $\\mathbf{x}_1, ..., \\mathbf{x}_{N-1}$, we can approximate the minimum energy path as the path $\\mathbf{x}_0 \\rightarrow \\mathbf{x}_1 \\rightarrow ... \\rightarrow \\mathbf{x}_{N}$. This method is sometimes referred to as the \"elastic band\" method."
   ]
  },
  {
   "cell_type": "markdown",
   "metadata": {},
   "source": [
    "----\n",
    "# Project exercises"
   ]
  },
  {
   "cell_type": "markdown",
   "metadata": {},
   "source": [
    "## Exercise 1\n",
    "Read section 6.5 from the book by Heath."
   ]
  },
  {
   "cell_type": "markdown",
   "metadata": {},
   "source": [
    "## Exercise 2\n",
    "Locate the minima of the potential $V$ by minimization. Discuss the algorithm that you use for this.\n",
    "\n",
    "$\\mathbf{x} \\in \\mathbb{R}^2$, is frequently used in this context:\n",
    "$$V(x_1,x_2) = \\sum_{i=1}^4 A_i \\, \\exp \\left( a_i(x_1-\\bar x_1^{(i)})^2 + b_i(x_1-\\bar x_1^{(i)})(x_2-\\bar x_2^{(i)} ) + c_i (x_2-\\bar x_2^{(i)})^2 \\right)$$\n",
    "\n",
    "with constants \n",
    "\n",
    "$$\\{A_i \\}=(-200,-100,-170,15), \\{a_i \\} = (-1, -1, -6.5, 0.7), \\{ b_i \\}=(0, 0, 11, 0.6), $$\n",
    "$$\\{ c_i \\} = (-10, -10, -6.5, 0.7), \\{ \\bar x_1^{(i)} \\} = (1, 0, -0.5, -1), \\{ \\bar x_2^{(i)} \\} = (0, 0.5, 1.5, 1).$$\n"
   ]
  },
  {
   "cell_type": "code",
   "execution_count": 1,
   "metadata": {
    "ExecuteTime": {
     "end_time": "2018-12-03T16:55:23.635847Z",
     "start_time": "2018-12-03T16:55:22.950412Z"
    }
   },
   "outputs": [],
   "source": [
    "import numpy as np\n",
    "import matplotlib.pyplot as plt\n",
    "import math"
   ]
  },
  {
   "cell_type": "code",
   "execution_count": 81,
   "metadata": {
    "ExecuteTime": {
     "end_time": "2018-12-03T17:27:19.666754Z",
     "start_time": "2018-12-03T17:27:19.653722Z"
    }
   },
   "outputs": [],
   "source": [
    "def prettyfie(ax, x, y, title, legendYN=\"Yes\"):\n",
    "\n",
    "    # Remove borders\n",
    "    ax.spines[\"top\"].set_visible(False)\n",
    "    ax.spines[\"bottom\"].set_visible(False)\n",
    "    ax.spines[\"right\"].set_visible(False)\n",
    "    ax.spines[\"left\"].set_visible(False)\n",
    "    ax.grid(alpha=0.25)\n",
    "\n",
    "    # Remove unnecessary ticks\n",
    "    ax.tick_params(\n",
    "        axis=\"both\",\n",
    "        which=\"both\",\n",
    "        bottom=False,\n",
    "        top=False,\n",
    "        labelbottom=True,\n",
    "        left=False,\n",
    "        right=False,\n",
    "        labelleft=True)\n",
    "\n",
    "    if legendYN == \"Yes\":\n",
    "        # Create legend and grid\n",
    "        ax.legend(framealpha=1, shadow=True)\n",
    "        ax.legend()\n",
    "\n",
    "    # Set labels and title\n",
    "    ax.set_xlabel(x, fontsize=14)\n",
    "    ax.set_ylabel(y, fontsize=14)\n",
    "    ax.set_title(title, fontsize=14)\n",
    "    ax.tick_params(axis='both', which='major', labelsize=12)\n",
    "\n",
    "\n",
    "def Vx(x1, x2, A, a, b, C, xbar1, xbar2):\n",
    "    return np.sum([\n",
    "        np.exp((a[i] * (x1 - xbar1[i])**2) + (b[i] * (x1 - xbar1[i])) *\n",
    "               (x2 - xbar2[i]) + C[i] * (x2 - xbar2[i])**2)\n",
    "        for i in range(len(A))\n",
    "    ])\n",
    "\n",
    "\n",
    "def getScheme_data(iters, plot=\"No\"):\n",
    "    linspace = np.linspace(0, 9, iters)\n",
    "    answer = []\n",
    "\n",
    "    for x in linspace:\n",
    "        answer.append(0.5 +\n",
    "                      math.erf((math.sqrt(math.pi) / 2) * (x - 2)) * -0.5)\n",
    "\n",
    "    if plot == \"Yes\":\n",
    "        fig, ax = plt.subplots(1, 1, figsize=(8, 5))\n",
    "        ax.plot(answer, label=\"Acceptance chance\")\n",
    "        prettyfie(\n",
    "            ax,\n",
    "            \"x\",\n",
    "            \"Acceptance chance\",\n",
    "            \"Cooling scheme Simulated Annealing\",\n",
    "            legendYN=\"No\")\n",
    "        plt.show()\n",
    "    return answer\n",
    "\n",
    "\n",
    "def optim(iters, xmin, xmax, typeO, plotRun=\"No\", schemePlot=\"No\"):\n",
    "    x1 = np.random.uniform(xmin, xmax)\n",
    "    x2 = np.random.uniform(xmin, xmax)\n",
    "    score = Vx(x1, x2, A, a, b, c, xbar1, xbar2)\n",
    "    bestX = (x1, x2)\n",
    "    \n",
    "    # Set plot to see cooling scheme\n",
    "    if typeO == \"SimAn\": scheme = getScheme_data(iters, plot=schemePlot)\n",
    "    run = [score]\n",
    "\n",
    "    for i in range(iters):\n",
    "        x1 = np.random.uniform(xmin, xmax)\n",
    "        x2 = np.random.uniform(xmin, xmax)\n",
    "        tmpScore = Vx(x1, x2, A, a, b, c, xbar1, xbar2)\n",
    "\n",
    "        if score > tmpScore:\n",
    "            score = tmpScore\n",
    "            bestX = (x1, x2)\n",
    "            run.append(score)\n",
    "        elif typeO == \"SimAn\":\n",
    "            if scheme[i] > np.random.uniform():\n",
    "                score = tmpScore\n",
    "                bestX = (x1, x2)\n",
    "                run.append(score)\n",
    "                \n",
    "    if plotRun == \"Yes\":\n",
    "        fig, ax = plt.subplots(1, 1, figsize=(8, 5))\n",
    "        ax.plot(run)\n",
    "        prettyfie(\n",
    "            ax,\n",
    "            \"iteration\",\n",
    "            \"Score\",\n",
    "            \"Score throughout the simulation\",\n",
    "            legendYN=\"No\")\n",
    "        plt.show()\n",
    "\n",
    "    return score, bestX"
   ]
  },
  {
   "cell_type": "code",
   "execution_count": 82,
   "metadata": {
    "ExecuteTime": {
     "end_time": "2018-12-03T17:27:23.845308Z",
     "start_time": "2018-12-03T17:27:23.656727Z"
    }
   },
   "outputs": [
    {
     "name": "stdout",
     "output_type": "stream",
     "text": [
      "(1.1519145620156954, (-1.4483144735785718, 1.3384229256821953))\n"
     ]
    }
   ],
   "source": [
    "A = [-200, -100, -170, 15]\n",
    "a = [-1, -1, -6.5, 0.7]\n",
    "b = [0, 0, 11, 0.6]\n",
    "c = [-10, -10, -6.5, 0.7]\n",
    "xbar1 = [1, 0, -0.5, -1]\n",
    "xbar2 = [0, 0.5, 1.5, 1]\n",
    "\n",
    "print(optim(10000, -10, 10, \"SimAn\", plotRun=\"No\", schemePlot=\"No\"))"
   ]
  },
  {
   "cell_type": "markdown",
   "metadata": {},
   "source": [
    "## Exercise 3\n",
    "Make a figure of the potential $V(\\mathbf{x})$ for $(x_1,x_2) \\in [-1.5, 1.5]\\times [-0.5,2]$. Indicate the locations of the minima.\n"
   ]
  },
  {
   "cell_type": "markdown",
   "metadata": {},
   "source": [
    "## Exercise 4\n",
    "What are the free variables of the chain energy $E$  (there should be $2N-2$ in total)?\n",
    "\n",
    "What is the gradient of $E$ with respect to all these variables?\n"
   ]
  },
  {
   "cell_type": "markdown",
   "metadata": {},
   "source": [
    "## Exercise 5\n",
    "Formulate the steepest descent method to minimize $E$ under variation of the free variables.\n"
   ]
  },
  {
   "cell_type": "markdown",
   "metadata": {},
   "source": [
    "## Exercise 6\n",
    "Fix the number of states on the chain (e.g. $N=20$), and pick a value for the parameter $k$ (e.g. $k=500$). Choose two different minima of $V$ to be the begin and end states of the chain ($\\mathbf x_0$ and $\\mathbf x_N$) and minimize $E$. As initialization, you can use chain states on a straight line from $\\mathbf x_0$ to $\\mathbf x_N$.\n"
   ]
  },
  {
   "cell_type": "markdown",
   "metadata": {},
   "source": [
    "## Exercise 7\n",
    "Show the path $\\mathbf{x}_0 \\rightarrow \\mathbf{x}_1 \\rightarrow ... \\rightarrow \\mathbf{x}_{N}$ at several stages during the minimization of $E$ (initialization, final result, some intermediate stages).\n"
   ]
  },
  {
   "cell_type": "markdown",
   "metadata": {},
   "source": [
    "\n",
    "## Exercise 8\n",
    "Explore what happens with larger values of $N$ and different choices for $k$. How can we interpret $k$?\n"
   ]
  },
  {
   "cell_type": "markdown",
   "metadata": {},
   "source": [
    "## Exercise 9\n",
    "The states of the chain that results from the steepest descent minimization typically group together in a few clusters, giving a poor representation of the minimum energy path. Check if this happens in your algorithm.\n",
    "\n",
    "Think of a way to improve this, and experiment with your idea. Things to try:\n",
    "- modify the definition of the chain energy to include a term that \"pulls toward\" uniform line length;\n",
    "- modify the gradient for the steepest descent method to always be normal (perpendicular) to the chain."
   ]
  },
  {
   "cell_type": "code",
   "execution_count": null,
   "metadata": {},
   "outputs": [],
   "source": []
  },
  {
   "cell_type": "code",
   "execution_count": null,
   "metadata": {},
   "outputs": [],
   "source": []
  },
  {
   "cell_type": "code",
   "execution_count": null,
   "metadata": {},
   "outputs": [],
   "source": []
  }
 ],
 "metadata": {
  "kernelspec": {
   "display_name": "Python 3",
   "language": "python",
   "name": "python3"
  },
  "language_info": {
   "codemirror_mode": {
    "name": "ipython",
    "version": 3
   },
   "file_extension": ".py",
   "mimetype": "text/x-python",
   "name": "python",
   "nbconvert_exporter": "python",
   "pygments_lexer": "ipython3",
   "version": "3.6.5"
  },
  "toc": {
   "base_numbering": 1,
   "nav_menu": {},
   "number_sections": false,
   "sideBar": true,
   "skip_h1_title": false,
   "title_cell": "Table of Contents",
   "title_sidebar": "Contents",
   "toc_cell": false,
   "toc_position": {},
   "toc_section_display": true,
   "toc_window_display": false
  },
  "varInspector": {
   "cols": {
    "lenName": 16,
    "lenType": 16,
    "lenVar": 40
   },
   "kernels_config": {
    "python": {
     "delete_cmd_postfix": "",
     "delete_cmd_prefix": "del ",
     "library": "var_list.py",
     "varRefreshCmd": "print(var_dic_list())"
    },
    "r": {
     "delete_cmd_postfix": ") ",
     "delete_cmd_prefix": "rm(",
     "library": "var_list.r",
     "varRefreshCmd": "cat(var_dic_list()) "
    }
   },
   "types_to_exclude": [
    "module",
    "function",
    "builtin_function_or_method",
    "instance",
    "_Feature"
   ],
   "window_display": false
  }
 },
 "nbformat": 4,
 "nbformat_minor": 2
}
