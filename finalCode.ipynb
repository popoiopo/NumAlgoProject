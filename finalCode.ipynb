{
 "cells": [
  {
   "cell_type": "code",
   "execution_count": 1,
   "metadata": {
    "ExecuteTime": {
     "end_time": "2018-12-15T19:52:08.259680Z",
     "start_time": "2018-12-15T19:52:07.778794Z"
    }
   },
   "outputs": [],
   "source": [
    "from ipywidgets import interact, interactive, fixed, interact_manual\n",
    "from mpl_toolkits.mplot3d import axes3d\n",
    "import ipywidgets as widgets\n",
    "from IPython.display import display\n",
    "import numpy as np\n",
    "import matplotlib.pyplot as plt\n",
    "import math\n",
    "\n",
    "%matplotlib notebook\n",
    "\n",
    "\n",
    "def log_progress(sequence, every=None, size=None, name='Items'):\n",
    "    from ipywidgets import IntProgress, HTML, VBox\n",
    "    from IPython.display import display\n",
    "\n",
    "    is_iterator = False\n",
    "    if size is None:\n",
    "        try:\n",
    "            size = len(sequence)\n",
    "        except TypeError:\n",
    "            is_iterator = True\n",
    "    if size is not None:\n",
    "        if every is None:\n",
    "            if size <= 200:\n",
    "                every = 1\n",
    "            else:\n",
    "                every = int(size / 200)  # every 0.5%\n",
    "    else:\n",
    "        assert every is not None, 'sequence is iterator, set every'\n",
    "\n",
    "    if is_iterator:\n",
    "        progress = IntProgress(min=0, max=1, value=1)\n",
    "        progress.bar_style = 'info'\n",
    "    else:\n",
    "        progress = IntProgress(min=0, max=size, value=0)\n",
    "    label = HTML()\n",
    "    box = VBox(children=[label, progress])\n",
    "    display(box)\n",
    "\n",
    "    index = 0\n",
    "    try:\n",
    "        for index, record in enumerate(sequence, 1):\n",
    "            if index == 1 or index % every == 0:\n",
    "                if is_iterator:\n",
    "                    label.value = '{name}: {index} / ?'.format(\n",
    "                        name=name, index=index)\n",
    "                else:\n",
    "                    progress.value = index\n",
    "                    label.value = u'{name}: {index} / {size}'.format(\n",
    "                        name=name, index=index, size=size)\n",
    "            yield record\n",
    "    except:\n",
    "        progress.bar_style = 'danger'\n",
    "        raise\n",
    "    else:\n",
    "        progress.bar_style = 'success'\n",
    "        progress.value = index\n",
    "        label.value = \"{name}: {index}\".format(\n",
    "            name=name, index=str(index or '?'))"
   ]
  },
  {
   "cell_type": "code",
   "execution_count": 2,
   "metadata": {
    "ExecuteTime": {
     "end_time": "2018-12-15T19:52:08.267701Z",
     "start_time": "2018-12-15T19:52:08.261685Z"
    }
   },
   "outputs": [],
   "source": [
    "A = [-200, -100, -170, 15]\n",
    "a = [-1, -1, -6.5, 0.7]\n",
    "b = [0, 0, 11, 0.6]\n",
    "c = [-10, -10, -6.5, 0.7]\n",
    "xbar1 = [1, 0, -0.5, -1]\n",
    "xbar2 = [0, 0.5, 1.5, 1]\n",
    "xmin = -1.5\n",
    "xmax = 1.5\n",
    "ymin = -0.5\n",
    "ymax = 2\n",
    "stepRate = math.pow(10, -10)\n",
    "stepSize = (abs(xmin) + abs(xmax)) * stepRate"
   ]
  },
  {
   "cell_type": "code",
   "execution_count": 3,
   "metadata": {
    "ExecuteTime": {
     "end_time": "2018-12-15T19:52:08.795619Z",
     "start_time": "2018-12-15T19:52:08.269707Z"
    }
   },
   "outputs": [],
   "source": [
    "def Vx(x1, x2, A, a, b, C, xbar1, xbar2):\n",
    "    return np.sum([\n",
    "        A[i] * np.exp((a[i] * (x1 - xbar1[i])**2) + (b[i] * (x1 - xbar1[i])) *\n",
    "                      (x2 - xbar2[i]) + C[i] * (x2 - xbar2[i])**2)\n",
    "        for i in range(len(A))\n",
    "    ])\n",
    "\n",
    "\n",
    "def move_new(x1, x2, mut_size, max_mut=1):\n",
    "\n",
    "    x1_lst, x2_lst, new_score = [], [], []\n",
    "    x_tups = np.array([(1, 0), (1, -1), (0, -1), (-1, -1), (-1, 0), (-1, 1),\n",
    "                       (0, 1), (1, 1)])\n",
    "\n",
    "    x_tup = get_coors(x1, x2, mut_size)\n",
    "\n",
    "    new_x = (x_tups * x_tup) + (x1, x2)\n",
    "    new_score = [Vx(x[0], x[1], A, a, b, c, xbar1, xbar2) for x in new_x]\n",
    "    return new_score.index(min(new_score)), new_x[new_score.index(\n",
    "        min(new_score))], min(new_score)\n",
    "\n",
    "\n",
    "def get_coors(x1, x2, mut_size):\n",
    "\n",
    "    new_x1 = abs(np.random.normal(0, mut_size, 1)[0])\n",
    "    new_x2 = abs(np.random.normal(0, mut_size, 1)[0])\n",
    "    qiv = 1.96 * mut_size\n",
    "\n",
    "    if -qiv < new_x1 < qiv and -qiv < new_x2 < qiv:\n",
    "        return new_x1, new_x2\n",
    "    return get_coors(x1, x2, mut_size)\n",
    "\n",
    "\n",
    "def getScheme_data(iters, plot=\"No\"):\n",
    "    linspace = np.linspace(0, 9, iters)\n",
    "    answer = []\n",
    "\n",
    "    for x in linspace:\n",
    "        answer.append(0.5 +\n",
    "                      math.erf((math.sqrt(math.pi) / 2) * (x - 2)) * -0.5)\n",
    "    return answer\n",
    "\n",
    "\n",
    "def mp_hillclimber(n_it, n_p, climb_scheme=\"Hillclimb\"):\n",
    "    if climb_scheme == \"simAn\": scheme = getScheme_data(n_it)\n",
    "    xcoords = np.linspace(-0.85, 0.5, n_p)\n",
    "    ycoords = np.linspace(1.35, 0.0, n_p)\n",
    "    coords = [(x, y) for x, y in zip(xcoords, ycoords)]\n",
    "    cur_coords = coords\n",
    "    cur_scores = [Vx(x[0], x[1], A, a, b, c, xbar1, xbar2) for x in coords]\n",
    "    cur_score = np.mean(cur_scores)\n",
    "    coors_list = {\"x\": [xcoords], \"y\": [ycoords], \"z\": [cur_scores]}\n",
    "    for i in range(n_it):\n",
    "        new_coors, new_score = [], []\n",
    "        for x1, x2 in cur_coords:\n",
    "            new = move_new(x1, x2, mut_size=0.05)\n",
    "            new_coors.append(new[1])\n",
    "            new_score.append(new[2])\n",
    "        if np.mean(new_score) < cur_score:\n",
    "            cur_score = np.mean(new_score)\n",
    "            cur_coords = new_coors\n",
    "            coors_list[\"x\"].append(list(np.array(new_coors)[:, 0]))\n",
    "            coors_list[\"y\"].append(list(np.array(new_coors)[:, 1]))\n",
    "            coors_list[\"z\"].append(new_score)\n",
    "        elif climb_scheme == \"simAn\":\n",
    "            if scheme[i] > np.random.uniform():\n",
    "                cur_score = np.mean(new_score)\n",
    "                cur_coords = new_coors\n",
    "                coors_list[\"x\"].append(list(np.array(new_coors)[:, 0]))\n",
    "                coors_list[\"y\"].append(list(np.array(new_coors)[:, 1]))\n",
    "                coors_list[\"z\"].append(new_score)\n",
    "\n",
    "    return coors_list\n",
    "\n",
    "\n",
    "data = mp_hillclimber(100, 6)"
   ]
  },
  {
   "cell_type": "code",
   "execution_count": 4,
   "metadata": {
    "ExecuteTime": {
     "end_time": "2018-12-15T19:52:10.189501Z",
     "start_time": "2018-12-15T19:52:08.799128Z"
    },
    "code_folding": []
   },
   "outputs": [],
   "source": [
    "X = np.array(np.linspace(xmin, xmax, 200))\n",
    "Y = np.array(np.linspace(ymin, ymax, 200))\n",
    "Z = []\n",
    "\n",
    "for x1 in X:\n",
    "    temp = []\n",
    "    for y1 in Y:\n",
    "        V = Vx(x1, y1, A, a, b, c, xbar1, xbar2)\n",
    "        if V > 100:\n",
    "            temp.append(0)\n",
    "        else:\n",
    "            temp.append(V)\n",
    "    Z.append(temp)\n",
    "Z = np.array(Z)"
   ]
  },
  {
   "cell_type": "code",
   "execution_count": 5,
   "metadata": {
    "ExecuteTime": {
     "end_time": "2018-12-15T19:52:10.468004Z",
     "start_time": "2018-12-15T19:52:10.191446Z"
    }
   },
   "outputs": [
    {
     "data": {
      "application/vnd.jupyter.widget-view+json": {
       "model_id": "43bac3cc793044ee85deb8c221f9d6ba",
       "version_major": 2,
       "version_minor": 0
      },
      "text/plain": [
       "interactive(children=(IntSlider(value=0, description='i', max=15), Output()), _dom_classes=('widget-interact',…"
      ]
     },
     "metadata": {},
     "output_type": "display_data"
    }
   ],
   "source": [
    "def showPlot(i=0):\n",
    "    print(X.shape, Y.shape, Z.shape)\n",
    "    contours = plt.contour(X, Y, Z, 3, colors='black')\n",
    "    plt.clabel(contours, inline=True, fontsize=8)\n",
    "\n",
    "    plt.imshow(\n",
    "        Z,\n",
    "        extent=[np.min(X), np.max(X),\n",
    "                np.min(Y), np.max(Y)],\n",
    "        origin='lower',\n",
    "        cmap='RdGy',\n",
    "        alpha=0.7)\n",
    "    plt.colorbar()\n",
    "    for j in range(len(data[\"x\"][i])):\n",
    "        plt.scatter(data[\"x\"][i][j], data[\"y\"][i][j], c=\"b\")\n",
    "    plt.show\n",
    "\n",
    "\n",
    "y = interactive(showPlot, i=(0, len(data[\"x\"]) - 1, 1))\n",
    "display(y)"
   ]
  },
  {
   "cell_type": "markdown",
   "metadata": {},
   "source": [
    "$$E(\\mathbf{x}_0, \\mathbf{x}_1, ..., \\mathbf{x}_N) = \\sum_{j=0}^N V(\\mathbf{x}_j) + \\frac12 k \\sum_{j=1}^N \\| \\mathbf{x}_j-\\mathbf{x}_{j-1} \\|_2^2.$$"
   ]
  },
  {
   "cell_type": "code",
   "execution_count": 11,
   "metadata": {
    "ExecuteTime": {
     "end_time": "2018-12-15T20:16:03.534103Z",
     "start_time": "2018-12-15T20:15:24.987142Z"
    },
    "scrolled": false
   },
   "outputs": [
    {
     "data": {
      "application/vnd.jupyter.widget-view+json": {
       "model_id": "a2284319511a479eb7c75a46d9c00dce",
       "version_major": 2,
       "version_minor": 0
      },
      "text/plain": [
       "VBox(children=(HTML(value=''), IntProgress(value=0, max=1000)))"
      ]
     },
     "metadata": {},
     "output_type": "display_data"
    },
    {
     "name": "stdout",
     "output_type": "stream",
     "text": [
      "Love and kisses <3\n",
      "58 58 58\n"
     ]
    }
   ],
   "source": [
    "from sympy import *\n",
    "from ipywidgets import interact, interactive, fixed, interact_manual\n",
    "import ipywidgets as widgets\n",
    "from IPython.display import display\n",
    "\n",
    "A = [-200, -100, -170, 15]\n",
    "a = [-1, -1, -6.5, 0.7]\n",
    "b = [0, 0, 11, 0.6]\n",
    "c = [-10, -10, -6.5, 0.7]\n",
    "xbar1 = [1, 0, -0.5, -1]\n",
    "xbar2 = [0, 0.5, 1.5, 1]\n",
    "xmin = -1.5\n",
    "xmax = 1.5\n",
    "ymin = -0.5\n",
    "ymax = 2\n",
    "stepRate = math.pow(10, -10)\n",
    "stepSize = (abs(xmin) + abs(xmax)) * stepRate\n",
    "\n",
    "x1 = Symbol(\"x1\")\n",
    "x2 = Symbol(\"x2\")\n",
    "f = (-200 * exp((-1 * (x1 - 1)**2) +\n",
    "                (0 * (x1 - 0)) * (x2 - 0) + -10 * (x2 - 0)**2)) + (-100 * exp(\n",
    "                    (-1 * (x1 - 0)**2) + (0 * (x1 - 0)) * (x2 - 0.5) + -10 *\n",
    "                    (x2 - 0.5)**2)) + (-170 * exp(\n",
    "                        (-6.5 * (x1 - -0.5)**2) +\n",
    "                        (11 * (x1 - -0.5)) * (x2 - 1.5) + -6.5 *\n",
    "                        (x2 - 1.5)**2)) + (15 * exp(\n",
    "                            (0.7 * (x1 - -1)**2) +\n",
    "                            (11 * (x1 - -1)) * (x2 - 1) + 0.7 * (x2 - 1)**2))\n",
    "\n",
    "fpx1 = f.diff(x1)\n",
    "fpx2 = f.diff(x2)\n",
    "grad = [fpx1, fpx2]\n",
    "\n",
    "# Data\n",
    "alpha = .0001\n",
    "check = 0\n",
    "precision = 1 / 1000000\n",
    "printData = True\n",
    "maxIterations = 1000\n",
    "\n",
    "\n",
    "def gradient_descent(n_p):\n",
    "    xcoords = np.linspace(-0.85, 0.5, n_p)\n",
    "    ycoords = np.linspace(1.35, 0.0, n_p)\n",
    "    x1Data = [xcoords]\n",
    "    x2Data = [ycoords]\n",
    "    VData = [[\n",
    "        f.subs([(x1, xcoords[i]), (x2, ycoords[i])]).evalf()\n",
    "        for i in range(len(xcoords))\n",
    "    ]]\n",
    "\n",
    "    for iterations in log_progress(range(maxIterations), every=1):\n",
    "        temp_scores = []\n",
    "        temp_theta = []\n",
    "        temp_theta1 = []\n",
    "        for i1, theta in enumerate(xcoords):\n",
    "            theta1 = ycoords[i1]\n",
    "            temptheta = theta - alpha * N(\n",
    "                fpx1.subs(x1, theta).subs(x2, theta1)).evalf()\n",
    "            temptheta1 = theta1 - alpha * N(fpx2.subs(x2, theta1)).subs(\n",
    "                x1, theta).evalf()\n",
    "\n",
    "            #If the number of iterations goes up too much, maybe theta (and/or theta1)\n",
    "            #is diverging! Let's stop the loop and try to understand.\n",
    "            if iterations + 1 > maxIterations:\n",
    "                print(\n",
    "                    \"Too many iterations. Adjust alpha and make sure that the function is convex!\"\n",
    "                )\n",
    "                printData = False\n",
    "                return 1\n",
    "\n",
    "            #If the value of theta changes less of a certain amount, our goal is met.\n",
    "            if abs(temptheta - theta) < precision and abs(temptheta1 -\n",
    "                                                          theta1) < precision:\n",
    "                return x1Data, x2Data, VData, iterations\n",
    "\n",
    "            #Simultaneous update\n",
    "            temp_scores.append(\n",
    "                f.subs([(x1, temptheta), (x2, temptheta1)]).evalf())\n",
    "            temp_theta.append(temptheta)\n",
    "            temp_theta1.append(temptheta1)\n",
    "\n",
    "        xcoords = temp_theta\n",
    "        ycoords = temp_theta1\n",
    "\n",
    "        if np.mean(temp_scores) < np.mean(VData[-1]):\n",
    "            x1Data.append(temp_theta)\n",
    "            x2Data.append(temp_theta1)\n",
    "            VData.append(temp_scores)\n",
    "\n",
    "\n",
    "x1Data, x2Data, VData, iterations = gradient_descent(10)\n",
    "print(len(x1Data), len(x2Data), len(VData))"
   ]
  },
  {
   "cell_type": "code",
   "execution_count": 13,
   "metadata": {
    "ExecuteTime": {
     "end_time": "2018-12-15T20:18:37.403698Z",
     "start_time": "2018-12-15T20:18:36.247018Z"
    }
   },
   "outputs": [
    {
     "name": "stdout",
     "output_type": "stream",
     "text": [
      "The function -100*exp(-x1**2 - 10*(x2 - 0.5)**2) - 200*exp(-10*x2**2 - (x1 - 1)**2) - 170*exp(-6.5*(x1 + 0.5)**2 + (11*x1 + 5.5)*(x2 - 1.5) - 6.5*(x2 - 1.5)**2) + 15*exp(0.7*(x1 + 1)**2 + (11*x1 + 11)*(x2 - 1) + 0.7*(x2 - 1)**2) converges to a minimum\n",
      "Number of iterations: 57\n",
      "best score = -202.549511799576\n"
     ]
    },
    {
     "data": {
      "application/vnd.jupyter.widget-view+json": {
       "model_id": "d0ea9b19dd874c6cbab6b99b826bc5fd",
       "version_major": 2,
       "version_minor": 0
      },
      "text/plain": [
       "interactive(children=(IntSlider(value=0, description='i', max=57), Output()), _dom_classes=('widget-interact',…"
      ]
     },
     "metadata": {},
     "output_type": "display_data"
    }
   ],
   "source": [
    "X = np.array(np.linspace(xmin, xmax, 200))\n",
    "Y = np.array(np.linspace(ymin, ymax, 200))\n",
    "Z = []\n",
    "\n",
    "for x1val in X:\n",
    "    temp = []\n",
    "    for x2val in Y:\n",
    "        V = Vx(x1val, x2val, A, a, b, c, xbar1, xbar2)\n",
    "        if V > 100:\n",
    "            temp.append(0)\n",
    "        else:\n",
    "            temp.append(V)\n",
    "    Z.append(temp)\n",
    "Z = np.array(Z)\n",
    "\n",
    "def showPlot(i=0):\n",
    "    contours = plt.contour(X, Y, Z, 3, colors='black')\n",
    "    plt.clabel(contours, inline=True, fontsize=8)\n",
    "\n",
    "    plt.imshow(\n",
    "        Z,\n",
    "        extent=[np.min(X), np.max(X),\n",
    "                np.min(Y), np.max(Y)],\n",
    "        origin='lower',\n",
    "        cmap='RdGy',\n",
    "        alpha=0.7)\n",
    "    plt.colorbar()\n",
    "    for j in range(len(x1Data[i])):\n",
    "        plt.scatter(x1Data[i][j], x2Data[i][j], c=\"b\")\n",
    "    plt.show\n",
    "    \n",
    "if printData:\n",
    "    print(\"The function \"+str(f)+\" converges to a minimum\")\n",
    "    print(\"Number of iterations:\",iterations,sep=\" \")\n",
    "    print(\"best score =\",min(VData[-1]),sep=\" \")\n",
    "\n",
    "y = interactive(showPlot, i=(0, len(x1Data) - 1, 1))\n",
    "display(y)"
   ]
  },
  {
   "cell_type": "code",
   "execution_count": 14,
   "metadata": {
    "ExecuteTime": {
     "end_time": "2018-12-15T20:20:36.714245Z",
     "start_time": "2018-12-15T20:20:36.472581Z"
    }
   },
   "outputs": [
    {
     "data": {
      "image/png": "[encoded data removed]",
      "text/plain": [
       "<Figure size 432x288 with 1 Axes>"
      ]
     },
     "metadata": {},
     "output_type": "display_data"
    }
   ],
   "source": [
    "import matplotlib.pyplot as plt\n",
    "from mpl_toolkits.mplot3d import axes3d\n",
    "# %matplotlib notebook\n",
    "\n",
    "fig = plt.figure()\n",
    "ax = fig.add_subplot(111, projection='3d')\n",
    "\n",
    "# Plot a basic wireframe.\n",
    "ax.plot_wireframe(X, Y, Z, rstride=10, cstride=10)\n",
    "for i in range(len(VData[-1])):\n",
    "    ax.scatter(x1Data[-1][i], x2Data[-1][i], VData[-1][i], \"b\")\n",
    "plt.show()"
   ]
  },
  {
   "cell_type": "code",
   "execution_count": 20,
   "metadata": {
    "ExecuteTime": {
     "end_time": "2018-12-15T20:56:00.986377Z",
     "start_time": "2018-12-15T20:56:00.062794Z"
    }
   },
   "outputs": [
    {
     "data": {
      "text/plain": [
       "array([-146.67901464,  -80.76687618, -108.16535922])"
      ]
     },
     "execution_count": 20,
     "metadata": {},
     "output_type": "execute_result"
    }
   ],
   "source": [
    "import numpy as np\n",
    "import scipy.ndimage.filters as filters\n",
    "import scipy.ndimage.morphology as morphology\n",
    "\n",
    "def detect_local_minima(arr):\n",
    "    \"\"\"\n",
    "    Takes an array and detects the troughs using the local maximum filter.\n",
    "    Returns a boolean mask of the troughs (i.e. 1 when\n",
    "    the pixel's value is the neighborhood maximum, 0 otherwise)\n",
    "    \"\"\"\n",
    "    neighborhood = morphology.generate_binary_structure(len(arr.shape),2)\n",
    "    local_min = (filters.minimum_filter(arr, footprint=neighborhood)==arr)\n",
    "    background = (arr==0)\n",
    "    eroded_background = morphology.binary_erosion(\n",
    "        background, structure=neighborhood, border_value=1)\n",
    "    detected_minima = local_min ^ eroded_background\n",
    "    return np.where(detected_minima)\n",
    "\n",
    "X = np.array(np.linspace(xmin, xmax, 200))\n",
    "Y = np.array(np.linspace(ymin, ymax, 200))\n",
    "Z = []\n",
    "\n",
    "for x1val in X:\n",
    "    temp = []\n",
    "    for x2val in Y:\n",
    "        V = Vx(x1val, x2val, A, a, b, c, xbar1, xbar2)\n",
    "        if V > 100:\n",
    "            temp.append(0)\n",
    "        else:\n",
    "            temp.append(V)\n",
    "    Z.append(temp)\n",
    "Z = np.array(Z)\n",
    "\n",
    "Z[detect_local_minima(Z)][Z[detect_local_minima(Z)]<0]"
   ]
  }
 ],
 "metadata": {
  "kernelspec": {
   "display_name": "Python 3",
   "language": "python",
   "name": "python3"
  },
  "language_info": {
   "codemirror_mode": {
    "name": "ipython",
    "version": 3
   },
   "file_extension": ".py",
   "mimetype": "text/x-python",
   "name": "python",
   "nbconvert_exporter": "python",
   "pygments_lexer": "ipython3",
   "version": "3.6.5"
  },
  "toc": {
   "base_numbering": 1,
   "nav_menu": {},
   "number_sections": false,
   "sideBar": true,
   "skip_h1_title": false,
   "title_cell": "Table of Contents",
   "title_sidebar": "Contents",
   "toc_cell": false,
   "toc_position": {},
   "toc_section_display": true,
   "toc_window_display": false
  },
  "varInspector": {
   "cols": {
    "lenName": 16,
    "lenType": 16,
    "lenVar": 40
   },
   "kernels_config": {
    "python": {
     "delete_cmd_postfix": "",
     "delete_cmd_prefix": "del ",
     "library": "var_list.py",
     "varRefreshCmd": "print(var_dic_list())"
    },
    "r": {
     "delete_cmd_postfix": ") ",
     "delete_cmd_prefix": "rm(",
     "library": "var_list.r",
     "varRefreshCmd": "cat(var_dic_list()) "
    }
   },
   "types_to_exclude": [
    "module",
    "function",
    "builtin_function_or_method",
    "instance",
    "_Feature"
   ],
   "window_display": false
  }
 },
 "nbformat": 4,
 "nbformat_minor": 2
}
