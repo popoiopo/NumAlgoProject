{
 "cells": [
  {
   "cell_type": "code",
   "execution_count": 1,
   "metadata": {
    "ExecuteTime": {
     "end_time": "2018-12-12T22:57:21.680273Z",
     "start_time": "2018-12-12T22:57:21.326370Z"
    }
   },
   "outputs": [],
   "source": [
    "from ipywidgets import interact, interactive, fixed, interact_manual\n",
    "import ipywidgets as widgets\n",
    "from IPython.display import display\n",
    "import numpy as np\n",
    "import matplotlib.pyplot as plt\n",
    "import math\n",
    "%matplotlib notebook\n",
    "\n",
    "A = [-200, -100, -170, 15]\n",
    "a = [-1, -1, -6.5, 0.7]\n",
    "b = [0, 0, 11, 0.6]\n",
    "c = [-10, -10, -6.5, 0.7]\n",
    "xbar1 = [1, 0, -0.5, -1]\n",
    "xbar2 = [0, 0.5, 1.5, 1]\n",
    "xmin = -1.5\n",
    "xmax = 1.5\n",
    "ymin = -0.5\n",
    "ymax = 2\n",
    "stepRate = math.pow(10, -10)\n",
    "stepSize = (abs(xmin) + abs(xmax)) * stepRate"
   ]
  },
  {
   "cell_type": "code",
   "execution_count": 4,
   "metadata": {
    "ExecuteTime": {
     "end_time": "2018-12-12T22:57:39.012803Z",
     "start_time": "2018-12-12T22:57:38.158139Z"
    }
   },
   "outputs": [
    {
     "name": "stdout",
     "output_type": "stream",
     "text": [
      "2 34 20\n"
     ]
    }
   ],
   "source": [
    "def Vx(x1, x2, A, a, b, C, xbar1, xbar2):\n",
    "    return np.sum([\n",
    "        A[i] * np.exp((a[i] * (x1 - xbar1[i])**2) + (b[i] * (x1 - xbar1[i])) *\n",
    "                      (x2 - xbar2[i]) + C[i] * (x2 - xbar2[i])**2)\n",
    "        for i in range(len(A))\n",
    "    ])\n",
    "\n",
    "\n",
    "def move_new(x1, x2, mut_size, max_mut=1):\n",
    "\n",
    "    x1_lst, x2_lst, new_score = [], [], []\n",
    "    x_tups = np.array([(1, 0), (1, -1), (0, -1), (-1, -1), (-1, 0), (-1, 1),\n",
    "                       (0, 1), (1, 1)])\n",
    "\n",
    "    x_tup = get_coors(x1, x2, mut_size)\n",
    "\n",
    "    new_x = (x_tups * x_tup) + (x1, x2)\n",
    "    new_score = [Vx(x[0], x[1], A, a, b, c, xbar1, xbar2) for x in new_x]\n",
    "    return new_score.index(min(new_score)), new_x[new_score.index(\n",
    "        min(new_score))], min(new_score)\n",
    "\n",
    "\n",
    "def get_coors(x1, x2, mut_size):\n",
    "\n",
    "    new_x1 = abs(np.random.normal(0, mut_size, 1)[0])\n",
    "    new_x2 = abs(np.random.normal(0, mut_size, 1)[0])\n",
    "    qiv = 1.96 * mut_size\n",
    "\n",
    "    if -qiv < new_x1 < qiv and -qiv < new_x2 < qiv:\n",
    "        return new_x1, new_x2\n",
    "    return get_coors(x1, x2, mut_size)\n",
    "\n",
    "\n",
    "def getScheme_data(iters, plot=\"No\"):\n",
    "    linspace = np.linspace(0, 9, iters)\n",
    "    answer = []\n",
    "\n",
    "    for x in linspace:\n",
    "        answer.append(0.5 +\n",
    "                      math.erf((math.sqrt(math.pi) / 2) * (x - 2)) * -0.5)\n",
    "    return answer\n",
    "\n",
    "\n",
    "def mp_hillclimber(n_it, n_p, climb_scheme):\n",
    "    if climb_scheme == \"simAn\": scheme = getScheme_data(n_it)\n",
    "    xcoords = np.linspace(-0.85, 0.5, n_p)\n",
    "    ycoords = np.linspace(1.35, 0.0, n_p)\n",
    "    coors_list = {\"x\": [xcoords], \"y\": [ycoords]}\n",
    "    coords = [(x, y) for x, y in zip(xcoords, ycoords)]\n",
    "    cur_score = np.mean(\n",
    "        [Vx(x[0], x[1], A, a, b, c, xbar1, xbar2) for x in coords])\n",
    "    cur_coords = coords\n",
    "    for i in range(n_it):\n",
    "        new_coors, new_score = [], []\n",
    "        for x1, x2 in cur_coords:\n",
    "            new = move_new(x1, x2, mut_size=0.05)\n",
    "            new_coors.append(new[1])\n",
    "            new_score.append(new[2])\n",
    "        if np.mean(new_score) < cur_score:\n",
    "            cur_score = np.mean(new_score)\n",
    "            cur_coords = new_coors\n",
    "            coors_list[\"x\"].append(list(np.array(new_coors)[:, 0]))\n",
    "            coors_list[\"y\"].append(list(np.array(new_coors)[:, 1]))\n",
    "        elif climb_scheme == \"simAn\":\n",
    "            if scheme[i] > np.random.uniform():\n",
    "                cur_score = np.mean(new_score)\n",
    "                cur_coords = new_coors\n",
    "                coors_list[\"x\"].append(list(np.array(new_coors)[:, 0]))\n",
    "                coors_list[\"y\"].append(list(np.array(new_coors)[:, 1]))\n",
    "    return coors_list\n",
    "\n",
    "\n",
    "data = mp_hillclimber(100, 20, \"simAn\")\n",
    "print(len(data), len(data[\"x\"]), len(data[\"x\"][0]))"
   ]
  },
  {
   "cell_type": "code",
   "execution_count": 5,
   "metadata": {
    "ExecuteTime": {
     "end_time": "2018-12-12T22:57:40.934322Z",
     "start_time": "2018-12-12T22:57:40.058065Z"
    }
   },
   "outputs": [],
   "source": [
    "X = np.linspace(xmin, xmax, 200)\n",
    "Y = np.linspace(ymin, ymax, 200)\n",
    "Z = []\n",
    "\n",
    "for x1 in X:\n",
    "    temp = []\n",
    "    for y1 in Y:\n",
    "        V = Vx(x1, y1, A, a, b, c, xbar1, xbar2)\n",
    "        if V > 100:\n",
    "            temp.append(0)\n",
    "        else:\n",
    "            temp.append(V)\n",
    "    Z.append(temp)\n",
    "\n",
    "X = np.array([X for x in X])\n",
    "Y = np.array([np.repeat(np.array([y]), len(Y)) for y in Y])\n",
    "Z = np.array(Z)"
   ]
  },
  {
   "cell_type": "code",
   "execution_count": 6,
   "metadata": {
    "ExecuteTime": {
     "end_time": "2018-12-12T22:57:42.193369Z",
     "start_time": "2018-12-12T22:57:41.908692Z"
    }
   },
   "outputs": [
    {
     "data": {
      "application/vnd.jupyter.widget-view+json": {
       "model_id": "0341696853944ad9a4e9dc850f43f95f",
       "version_major": 2,
       "version_minor": 0
      },
      "text/plain": [
       "interactive(children=(IntSlider(value=0, description='i', max=33), Output()), _dom_classes=('widget-interact',…"
      ]
     },
     "metadata": {},
     "output_type": "display_data"
    }
   ],
   "source": [
    "def showPlot(i=0):\n",
    "    contours = plt.contour(X, Y, Z, 4, colors='black')\n",
    "    plt.clabel(contours, inline=True, fontsize=8)\n",
    "\n",
    "    plt.imshow(\n",
    "        Z,\n",
    "        extent=[np.min(X), np.max(X),\n",
    "                np.min(Y), np.max(Y)],\n",
    "        origin='lower',\n",
    "        cmap='RdGy',\n",
    "        alpha=0.7)\n",
    "    plt.colorbar()\n",
    "    for j in range(len(data[\"x\"][i])):\n",
    "        plt.scatter(data[\"x\"][i][j], data[\"y\"][i][j], c=\"b\")\n",
    "\n",
    "\n",
    "y = interactive(showPlot, i=(0, len(data[\"x\"]) - 1, 1))\n",
    "display(y)"
   ]
  },
  {
   "cell_type": "code",
   "execution_count": null,
   "metadata": {},
   "outputs": [],
   "source": []
  }
 ],
 "metadata": {
  "kernelspec": {
   "display_name": "Python 3",
   "language": "python",
   "name": "python3"
  },
  "language_info": {
   "codemirror_mode": {
    "name": "ipython",
    "version": 3
   },
   "file_extension": ".py",
   "mimetype": "text/x-python",
   "name": "python",
   "nbconvert_exporter": "python",
   "pygments_lexer": "ipython3",
   "version": "3.6.5"
  },
  "toc": {
   "base_numbering": 1,
   "nav_menu": {},
   "number_sections": false,
   "sideBar": true,
   "skip_h1_title": false,
   "title_cell": "Table of Contents",
   "title_sidebar": "Contents",
   "toc_cell": false,
   "toc_position": {},
   "toc_section_display": true,
   "toc_window_display": false
  },
  "varInspector": {
   "cols": {
    "lenName": 16,
    "lenType": 16,
    "lenVar": 40
   },
   "kernels_config": {
    "python": {
     "delete_cmd_postfix": "",
     "delete_cmd_prefix": "del ",
     "library": "var_list.py",
     "varRefreshCmd": "print(var_dic_list())"
    },
    "r": {
     "delete_cmd_postfix": ") ",
     "delete_cmd_prefix": "rm(",
     "library": "var_list.r",
     "varRefreshCmd": "cat(var_dic_list()) "
    }
   },
   "types_to_exclude": [
    "module",
    "function",
    "builtin_function_or_method",
    "instance",
    "_Feature"
   ],
   "window_display": false
  }
 },
 "nbformat": 4,
 "nbformat_minor": 2
}
