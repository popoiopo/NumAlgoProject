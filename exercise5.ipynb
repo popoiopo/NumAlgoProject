{
 "cells": [
  {
   "cell_type": "markdown",
   "metadata": {},
   "source": [
    "Please **submit this Jupyter notebook through Canvas** no later than **Friday December 14, 10:59**, before the start of the lecture.\n",
    "\n",
    "The final project is in **groups of three**, and you are expected to hand in original work. Work that is copied from another group will not be accepted.\n",
    "\n",
    "A single, jointly written report for each group is fine. All members in a group will receive the same grade."
   ]
  },
  {
   "cell_type": "markdown",
   "metadata": {},
   "source": [
    "# Exercise 0\n",
    "Write down the names + student ID of the people in your group."
   ]
  },
  {
   "cell_type": "markdown",
   "metadata": {},
   "source": []
  },
  {
   "cell_type": "markdown",
   "metadata": {},
   "source": [
    "----\n",
    "# Project keywords\n",
    "Optimization, time integration"
   ]
  },
  {
   "cell_type": "markdown",
   "metadata": {},
   "source": [
    "----\n",
    "# Project description\n",
    "In various fields of application (e.g. physics, chemistry, biology), modeling systems as noise-driven motion in a potential landscape has been very successful. Such systems can spend most of their time in or near the bottom of a potential well, and are occasionally triggered by the noise to \"hop over\" to another well. How frequently such transitions occur depends on the noise amplitude. With small noise, transitions occur very infrequently (\"rare events\"), and the potential wells correspond to preferred states or metastable states of the system. Think of the phenomenon of protein folding, with the folded and unfolded states as metastable states.\n",
    "\n",
    "If the noise is small and the potential smooth, transitions typically follow \\textit{minimum energy paths}. An important question is what these paths look like. Answering this question by forward time integration is impractical or even impossible if the transitions are rare (in which case excessively long integrations would be needed to observe just one or a few transitions). Instead, one can try to compute the paths directly using minimization.\n",
    "\n",
    "The following potential, with $(x_1,x_2) = \\mathbf{x} \\in \\mathbb{R}^2$, is frequently used in this context:\n",
    "$$V(x_1,x_2) = \\sum_{i=1}^4 A_i \\, \\exp \\left( a_i(x_1-\\bar x_1^{(i)})^2 + b_i(x_1-\\bar x_1^{(i)})(x_2-\\bar x_2^{(i)} ) + c_i (x_2-\\bar x_2^{(i)})^2 \\right)$$\n",
    "with constants \n",
    "$$\\{A_i \\}=(-200,-100,-170,15), \\{a_i \\} = (-1, -1, -6.5, 0.7), \\{ b_i \\}=(0, 0, 11, 0.6), $$\n",
    "$$\\{ c_i \\} = (-10, -10, -6.5, 0.7), \\{ \\bar x_1^{(i)} \\} = (1, 0, -0.5, -1), \\{ \\bar x_2^{(i)} \\} = (0, 0.5, 1.5, 1).$$\n",
    "\n",
    "This potential has three local minima, these can be found by minimization. If we have two states $\\mathbf{A}$ and $\\mathbf{B}$ and we want to compute the minimum energy path that connects them, we can create a chain of $N+1$ states $\\{ \\mathbf{x}_0, \\mathbf{x}_1, ..., \\mathbf{x}_N \\}$ with $\\mathbf{x}_0=\\mathbf{A}$ and $\\mathbf{x}_N=\\mathbf{B}$, and define the energy of the chain as\n",
    "$$E(\\mathbf{x}_0, \\mathbf{x}_1, ..., \\mathbf{x}_N) = \\sum_{j=0}^N V(\\mathbf{x}_j) + \\frac12 k \\sum_{j=1}^N \\| \\mathbf{x}_j-\\mathbf{x}_{j-1} \\|_2^2.$$\n",
    "\n",
    "By minimizing $E$ over the coordinates of the states $\\mathbf{x}_1, ..., \\mathbf{x}_{N-1}$, we can approximate the minimum energy path as the path $\\mathbf{x}_0 \\rightarrow \\mathbf{x}_1 \\rightarrow ... \\rightarrow \\mathbf{x}_{N}$. This method is sometimes referred to as the \"elastic band\" method."
   ]
  },
  {
   "cell_type": "markdown",
   "metadata": {},
   "source": [
    "----\n",
    "# Project exercises"
   ]
  },
  {
   "cell_type": "markdown",
   "metadata": {},
   "source": [
    "## Exercise 1\n",
    "Read section 6.5 from the book by Heath."
   ]
  },
  {
   "cell_type": "markdown",
   "metadata": {},
   "source": [
    "## Exercise 2\n",
    "Locate the minima of the potential $V$ by minimization. Discuss the algorithm that you use for this.\n",
    "\n",
    "$\\mathbf{x} \\in \\mathbb{R}^2$, is frequently used in this context:\n",
    "$$V(x_1,x_2) = \\sum_{i=1}^4 A_i \\, \\exp \\left( a_i(x_1-\\bar x_1^{(i)})^2 + b_i(x_1-\\bar x_1^{(i)})(x_2-\\bar x_2^{(i)} ) + c_i (x_2-\\bar x_2^{(i)})^2 \\right)$$\n",
    "\n",
    "with constants \n",
    "\n",
    "$$\\{A_i \\}=(-200,-100,-170,15), \\{a_i \\} = (-1, -1, -6.5, 0.7), \\{ b_i \\}=(0, 0, 11, 0.6), $$\n",
    "$$\\{ c_i \\} = (-10, -10, -6.5, 0.7), \\{ \\bar x_1^{(i)} \\} = (1, 0, -0.5, -1), \\{ \\bar x_2^{(i)} \\} = (0, 0.5, 1.5, 1).$$\n"
   ]
  },
  {
   "cell_type": "code",
   "execution_count": 1,
   "metadata": {
    "ExecuteTime": {
     "end_time": "2018-12-11T22:10:10.346520Z",
     "start_time": "2018-12-11T22:10:09.949415Z"
    }
   },
   "outputs": [],
   "source": [
    "import numpy as np\n",
    "import matplotlib.pyplot as plt\n",
    "import math"
   ]
  },
  {
   "cell_type": "code",
   "execution_count": 3,
   "metadata": {
    "ExecuteTime": {
     "end_time": "2018-12-11T22:10:10.364573Z",
     "start_time": "2018-12-11T22:10:10.349027Z"
    }
   },
   "outputs": [
    {
     "data": {
      "image/png": "[encoded data removed]",
      "text/plain": [
       "<Figure size 576x360 with 1 Axes>"
      ]
     },
     "metadata": {},
     "output_type": "display_data"
    },
    {
     "ename": "IndexError",
     "evalue": "invalid index to scalar variable.",
     "output_type": "error",
     "traceback": [
      "\u001b[1;31m\u001b[0m",
      "\u001b[1;31mIndexError\u001b[0mTraceback (most recent call last)",
      "\u001b[1;32m<ipython-input-3-29c6edd614a8>\u001b[0m in \u001b[0;36m<module>\u001b[1;34m()\u001b[0m\n\u001b[0;32m    190\u001b[0m         \u001b[0mstepSize\u001b[0m\u001b[1;33m,\u001b[0m\u001b[1;33m\u001b[0m\u001b[0m\n\u001b[0;32m    191\u001b[0m         \u001b[0mplotRun\u001b[0m\u001b[1;33m=\u001b[0m\u001b[1;34m\"Yes\"\u001b[0m\u001b[1;33m,\u001b[0m\u001b[1;33m\u001b[0m\u001b[0m\n\u001b[1;32m--> 192\u001b[1;33m         schemePlot=\"Yes\"))\n\u001b[0m\u001b[0;32m    193\u001b[0m \u001b[1;33m\u001b[0m\u001b[0m\n",
      "\u001b[1;32m<ipython-input-3-29c6edd614a8>\u001b[0m in \u001b[0;36moptim\u001b[1;34m(iters, xmin, xmax, ymin, ymax, typeO, stepSize, plotRun, schemePlot)\u001b[0m\n\u001b[0;32m    164\u001b[0m                 \u001b[0mbestX\u001b[0m \u001b[1;33m=\u001b[0m \u001b[1;33m(\u001b[0m\u001b[0mx1\u001b[0m\u001b[1;33m,\u001b[0m \u001b[0mx2\u001b[0m\u001b[1;33m)\u001b[0m\u001b[1;33m\u001b[0m\u001b[0m\n\u001b[0;32m    165\u001b[0m                 \u001b[0mrun\u001b[0m\u001b[1;33m.\u001b[0m\u001b[0mappend\u001b[0m\u001b[1;33m(\u001b[0m\u001b[0mscore\u001b[0m\u001b[1;33m)\u001b[0m\u001b[1;33m\u001b[0m\u001b[0m\n\u001b[1;32m--> 166\u001b[1;33m     \u001b[0mgradient_descent\u001b[0m\u001b[1;33m(\u001b[0m\u001b[0mcollectx\u001b[0m\u001b[1;33m)\u001b[0m\u001b[1;33m\u001b[0m\u001b[0m\n\u001b[0m\u001b[0;32m    167\u001b[0m \u001b[1;33m\u001b[0m\u001b[0m\n\u001b[0;32m    168\u001b[0m     \u001b[1;32mif\u001b[0m \u001b[0mplotRun\u001b[0m \u001b[1;33m==\u001b[0m \u001b[1;34m\"Yes\"\u001b[0m\u001b[1;33m:\u001b[0m\u001b[1;33m\u001b[0m\u001b[0m\n",
      "\u001b[1;32m<ipython-input-3-29c6edd614a8>\u001b[0m in \u001b[0;36mgradient_descent\u001b[1;34m(collectx)\u001b[0m\n\u001b[0;32m    106\u001b[0m             \u001b[0mapprox\u001b[0m\u001b[1;33m=\u001b[0m\u001b[1;36m1\u001b[0m\u001b[1;33m\u001b[0m\u001b[0m\n\u001b[0;32m    107\u001b[0m             \u001b[0mminima\u001b[0m\u001b[1;33m=\u001b[0m\u001b[0mcollectx\u001b[0m\u001b[1;33m[\u001b[0m\u001b[1;33m-\u001b[0m\u001b[1;36m1\u001b[0m\u001b[1;33m]\u001b[0m\u001b[1;33m\u001b[0m\u001b[0m\n\u001b[1;32m--> 108\u001b[1;33m             \u001b[0mdeltav_x1\u001b[0m \u001b[1;33m=\u001b[0m \u001b[0mVx2\u001b[0m\u001b[1;33m(\u001b[0m\u001b[0mi\u001b[0m\u001b[1;33m[\u001b[0m\u001b[1;36m0\u001b[0m\u001b[1;33m]\u001b[0m\u001b[1;33m,\u001b[0m \u001b[0mi\u001b[0m\u001b[1;33m[\u001b[0m\u001b[1;36m1\u001b[0m\u001b[1;33m]\u001b[0m\u001b[1;33m,\u001b[0m \u001b[0mA\u001b[0m\u001b[1;33m,\u001b[0m \u001b[0ma\u001b[0m\u001b[1;33m,\u001b[0m \u001b[0mb\u001b[0m\u001b[1;33m,\u001b[0m \u001b[0mc\u001b[0m\u001b[1;33m,\u001b[0m \u001b[0mxbar1\u001b[0m\u001b[1;33m,\u001b[0m \u001b[0mxbar2\u001b[0m\u001b[1;33m)\u001b[0m\u001b[1;33m\u001b[0m\u001b[0m\n\u001b[0m\u001b[0;32m    109\u001b[0m             \u001b[0mdeltav_x2\u001b[0m \u001b[1;33m=\u001b[0m \u001b[0mVx3\u001b[0m\u001b[1;33m(\u001b[0m\u001b[0mi\u001b[0m\u001b[1;33m[\u001b[0m\u001b[1;36m0\u001b[0m\u001b[1;33m]\u001b[0m\u001b[1;33m,\u001b[0m \u001b[0mi\u001b[0m\u001b[1;33m[\u001b[0m\u001b[1;36m1\u001b[0m\u001b[1;33m]\u001b[0m\u001b[1;33m,\u001b[0m \u001b[0mA\u001b[0m\u001b[1;33m,\u001b[0m \u001b[0ma\u001b[0m\u001b[1;33m,\u001b[0m \u001b[0mb\u001b[0m\u001b[1;33m,\u001b[0m \u001b[0mc\u001b[0m\u001b[1;33m,\u001b[0m \u001b[0mxbar1\u001b[0m\u001b[1;33m,\u001b[0m \u001b[0mxbar2\u001b[0m\u001b[1;33m)\u001b[0m\u001b[1;33m\u001b[0m\u001b[0m\n\u001b[0;32m    110\u001b[0m             \u001b[0mgrad_x1\u001b[0m\u001b[1;33m=\u001b[0m \u001b[0mdeltav_x1\u001b[0m \u001b[1;33m+\u001b[0m \u001b[1;33m(\u001b[0m\u001b[0mk\u001b[0m\u001b[1;33m/\u001b[0m\u001b[1;36m2\u001b[0m\u001b[1;33m)\u001b[0m\u001b[1;33m*\u001b[0m\u001b[1;33m(\u001b[0m\u001b[0mi\u001b[0m\u001b[1;33m[\u001b[0m\u001b[1;36m0\u001b[0m\u001b[1;33m]\u001b[0m \u001b[1;33m-\u001b[0m \u001b[0mcollectx\u001b[0m\u001b[1;33m[\u001b[0m\u001b[0mcounter\u001b[0m\u001b[1;33m-\u001b[0m\u001b[1;36m1\u001b[0m\u001b[1;33m]\u001b[0m\u001b[1;33m[\u001b[0m\u001b[1;36m0\u001b[0m\u001b[1;33m]\u001b[0m\u001b[1;33m)\u001b[0m\u001b[1;33m\u001b[0m\u001b[0m\n",
      "\u001b[1;31mIndexError\u001b[0m: invalid index to scalar variable."
     ]
    }
   ],
   "source": [
    "import numpy as np\n",
    "import matplotlib.pyplot as plt\n",
    "import math\n",
    "\n",
    "\n",
    "A = [-200, -100, -170, 15]\n",
    "a = [-1, -1, -6.5, 0.7]\n",
    "b = [0, 0, 11, 0.6]\n",
    "c = [-10, -10, -6.5, 0.7]\n",
    "xbar1 = [1, 0, -0.5, -1]\n",
    "xbar2 = [0, 0.5, 1.5, 1]\n",
    "\n",
    "xmin = -2\n",
    "xmax = 2\n",
    "ymin = -2\n",
    "ymax = 2\n",
    "stepRate = math.pow(10, -4)\n",
    "stepSize = (abs(xmin) + abs(xmax)) * stepRate\n",
    "deltav_x1=[]\n",
    "deltav_x2=[]\n",
    "\n",
    "\n",
    "\n",
    "def prettyfie(ax, x, y, title, legendYN=\"Yes\"):\n",
    "\n",
    "    # Remove borders\n",
    "    ax.spines[\"top\"].set_visible(False)\n",
    "    ax.spines[\"bottom\"].set_visible(False)\n",
    "    ax.spines[\"right\"].set_visible(False)\n",
    "    ax.spines[\"left\"].set_visible(False)\n",
    "    ax.grid(alpha=0.25)\n",
    "\n",
    "    # Remove unnecessary ticks\n",
    "    ax.tick_params(\n",
    "        axis=\"both\",\n",
    "        which=\"both\",\n",
    "        bottom=False,\n",
    "        top=False,\n",
    "        labelbottom=True,\n",
    "        left=False,\n",
    "        right=False,\n",
    "        labelleft=True)\n",
    "\n",
    "    if legendYN == \"Yes\":\n",
    "        # Create legend and grid\n",
    "        ax.legend(framealpha=1, shadow=True)\n",
    "        ax.legend()\n",
    "\n",
    "    # Set labels and title\n",
    "    ax.set_xlabel(x, fontsize=14)\n",
    "    ax.set_ylabel(y, fontsize=14)\n",
    "    ax.set_title(title, fontsize=14)\n",
    "    ax.tick_params(axis='both', which='major', labelsize=12)\n",
    "\n",
    "\n",
    "def Vx(x1, x2, A, a, b, C, xbar1, xbar2):\n",
    "    return np.sum([\n",
    "        A[i] * np.exp((a[i] * (x1 - xbar1[i])**2) + (b[i] * (x1 - xbar1[i])) *\n",
    "                      (x2 - xbar2[i]) + C[i] * (x2 - xbar2[i])**2)\n",
    "        for i in range(len(A))\n",
    "    ])\n",
    "\n",
    "def Vx2(x1, x2, A, a, b, C, xbar1, xbar2):\n",
    "    return np.sum([\n",
    "        A[q] * (2*(a[q]*(x1-xbar1[q]))+b[q]*(x2-xbar2[q])) * np.exp((a[q] * (x1 - xbar1[q])**2) + (b[q] * \n",
    "                    (x1 - xbar1[q])) *(x2 - xbar2[q]) + C[q] * (x2 - xbar2[q])**2)\n",
    "        for q in range(len(A))\n",
    "    ])\n",
    "\n",
    "def Vx3(x1, x2, A, a, b, C, xbar1, xbar2):\n",
    "    return np.sum([\n",
    "        A[q]* (2*(c[q]*(x2-xbar2[q]))+b[q]*(x1-xbar1[q])) * np.exp((a[q] * (x1 - xbar1[q])**2) + (b[q] \n",
    "                                                * (x1 - xbar1[q])) *(x2 - xbar2[q]) + C[q] * (x2 - xbar2[q])**2)\n",
    "        for q in range(len(A))\n",
    "    ])\n",
    "\n",
    "\n",
    "def getScheme_data(iters, plot=\"No\"):\n",
    "    linspace = np.linspace(0, 9, iters)\n",
    "    answer = []\n",
    "\n",
    "    for x in linspace:\n",
    "        answer.append(0.5 +\n",
    "                      math.erf((math.sqrt(math.pi) / 2) * (x - 2)) * -0.5)\n",
    "\n",
    "    if plot == \"Yes\":\n",
    "        fig, ax = plt.subplots(1, 1, figsize=(8, 5))\n",
    "        ax.plot(answer, label=\"Acceptance chance\")\n",
    "        prettyfie(\n",
    "            ax,\n",
    "            \"x\",\n",
    "            \"Acceptance chance\",\n",
    "            \"Cooling scheme Simulated Annealing\",\n",
    "            legendYN=\"No\")\n",
    "        plt.show()\n",
    "    return answer\n",
    "\n",
    "def gradient_descent(collectx):\n",
    "    k=50\n",
    "    tol=0.001\n",
    "    temp=[]\n",
    "    counter=0\n",
    "    for j in range(k):\n",
    "        for i in collectx:\n",
    "            counter=counter+1\n",
    "            approx=1\n",
    "            minima=collectx[-1]\n",
    "            deltav_x1 = Vx2(i[0], i[1], A, a, b, c, xbar1, xbar2)\n",
    "            deltav_x2 = Vx3(i[0], i[1], A, a, b, c, xbar1, xbar2)\n",
    "            grad_x1= deltav_x1 + (k/2)*(i[0] - collectx[counter-1][0])\n",
    "            grad_x2= deltav_x2 + (k/2)*(i[1] - collectx[counter-1][1])\n",
    "            temp.append(grad_x1)\n",
    "            temp.append(grad_x2)\n",
    "            if np.all(np.isclose(i,minima,tol)) == True:\n",
    "                break\n",
    "        collectx=temp\n",
    "        \n",
    "    print bestx\n",
    "# HIER KOMT GRADIENT DESCENT\n",
    "\n",
    "\n",
    "def pickXX(x1, x2):\n",
    "\n",
    "    tx1 = x1 + np.random.uniform(-stepSize, stepSize)\n",
    "    tx2 = x2 + np.random.uniform(-stepSize, stepSize)\n",
    "    if xmin > tx1 > xmax or xmin > tx2 > xmax:\n",
    "        return pickXX(x1, x2)\n",
    "    return tx1, tx2\n",
    "\n",
    "\n",
    "def optim(iters,\n",
    "          xmin,\n",
    "          xmax,\n",
    "          ymin,\n",
    "          ymax,\n",
    "          typeO,\n",
    "          stepSize,\n",
    "          plotRun=\"No\",\n",
    "          schemePlot=\"No\"):\n",
    "    x1 = np.random.uniform(xmin, xmax)\n",
    "    x2 = np.random.uniform(ymin, ymax)\n",
    "    score = Vx(x1, x2, A, a, b, c, xbar1, xbar2)\n",
    "    bestX = (x1, x2)\n",
    "    collectx =[]\n",
    "    \n",
    "    # Set plot to see cooling scheme\n",
    "    if typeO == \"SimAn\": scheme = getScheme_data(iters, plot=schemePlot)\n",
    "    run = [score]\n",
    "\n",
    "    for i in range(iters):\n",
    "        x1 = np.random.uniform(xmin, xmax)\n",
    "        x2 = np.random.uniform(xmin, xmax)\n",
    "        tmpScore = Vx(x1, x2, A, a, b, c, xbar1, xbar2)\n",
    "        xcomb=(x1,x2)\n",
    "        collectx.append(xcomb)\n",
    "\n",
    "        if score > tmpScore:\n",
    "            score = tmpScore\n",
    "            bestX = (x1, x2)\n",
    "            run.append(score)\n",
    "        elif typeO == \"SimAn\":\n",
    "            if scheme[i] > np.random.uniform():\n",
    "                score = tmpScore\n",
    "                bestX = (x1, x2)\n",
    "                run.append(score)\n",
    "    gradient_descent(collectx)\n",
    "\n",
    "    if plotRun == \"Yes\":\n",
    "        fig, ax = plt.subplots(1, 1, figsize=(8, 5))\n",
    "        ax.plot(run)\n",
    "        prettyfie(\n",
    "            ax,\n",
    "            \"iteration\",\n",
    "            \"Score\",\n",
    "            \"Score throughout the simulation\",\n",
    "            legendYN=\"No\")\n",
    "        plt.show()\n",
    "\n",
    "    return score, bestX\n",
    "\n",
    "\n",
    "print(\n",
    "    optim(\n",
    "        1000,\n",
    "        xmin,\n",
    "        xmax,\n",
    "        ymin,\n",
    "        ymax,\n",
    "        \"SimAn\",\n",
    "        stepSize,\n",
    "        plotRun=\"Yes\",\n",
    "        schemePlot=\"Yes\"))\n",
    "\n"
   ]
  },
  {
   "cell_type": "code",
   "execution_count": null,
   "metadata": {},
   "outputs": [],
   "source": []
  },
  {
   "cell_type": "code",
   "execution_count": null,
   "metadata": {},
   "outputs": [],
   "source": []
  }
 ],
 "metadata": {
  "kernelspec": {
   "display_name": "Python 2",
   "language": "python",
   "name": "python2"
  },
  "language_info": {
   "codemirror_mode": {
    "name": "ipython",
    "version": 2
   },
   "file_extension": ".py",
   "mimetype": "text/x-python",
   "name": "python",
   "nbconvert_exporter": "python",
   "pygments_lexer": "ipython2",
   "version": "2.7.15"
  },
  "toc": {
   "base_numbering": 1,
   "nav_menu": {},
   "number_sections": false,
   "sideBar": true,
   "skip_h1_title": false,
   "title_cell": "Table of Contents",
   "title_sidebar": "Contents",
   "toc_cell": false,
   "toc_position": {},
   "toc_section_display": true,
   "toc_window_display": false
  },
  "varInspector": {
   "cols": {
    "lenName": 16,
    "lenType": 16,
    "lenVar": 40
   },
   "kernels_config": {
    "python": {
     "delete_cmd_postfix": "",
     "delete_cmd_prefix": "del ",
     "library": "var_list.py",
     "varRefreshCmd": "print(var_dic_list())"
    },
    "r": {
     "delete_cmd_postfix": ") ",
     "delete_cmd_prefix": "rm(",
     "library": "var_list.r",
     "varRefreshCmd": "cat(var_dic_list()) "
    }
   },
   "types_to_exclude": [
    "module",
    "function",
    "builtin_function_or_method",
    "instance",
    "_Feature"
   ],
   "window_display": false
  }
 },
 "nbformat": 4,
 "nbformat_minor": 2
}
