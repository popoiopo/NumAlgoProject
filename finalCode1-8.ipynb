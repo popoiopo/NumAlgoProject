{
 "cells": [
  {
   "cell_type": "markdown",
   "metadata": {},
   "source": [
    "Please **submit this Jupyter notebook through Canvas** no later than **Friday December 14, 10:59**, before the start of the lecture.\n",
    "\n",
    "The final project is in **groups of three**, and you are expected to hand in original work. Work that is copied from another group will not be accepted.\n",
    "\n",
    "A single, jointly written report for each group is fine. All members in a group will receive the same grade."
   ]
  },
  {
   "cell_type": "markdown",
   "metadata": {},
   "source": [
    "# Exercise 0\n",
    "Write down the names + student ID of the people in your group."
   ]
  },
  {
   "cell_type": "markdown",
   "metadata": {},
   "source": [
    "<ul class=\"fa-ul\">\n",
    "  <li><span class=\"fa-stack fa-lg\">\n",
    "    <i style=\"color: firebrick\" class=\"fa fa-spinner fa-stack-1x  fa-pulse fa-3x fa-fw\"></i>\n",
    "    <i class=\"fa fa-ban fa-stack-1x text-danger\"></i>\n",
    "  </span>Names + Student ID</li>\n",
    "  <li><i style=\"color: firebrick\" class=\"fa fa-cog fa-spin fa-3x fa-fw\"></i>Bas Chatel</li>\n",
    "  <li><span class=\"fa-stack fa-lg\">\n",
    "    <i style=\"color: firebrick\" class=\"fa fa-spinner fa-stack-1x  fa-pulse fa-3x fa-fw\"></i>\n",
    "    <i class=\"fa fa-ban fa-stack-1x text-danger\"></i>\n",
    "  </span>10246215</li>\n",
    "  <li><i style=\"color: firebrick\" class=\"fa fa-cog fa-spin fa-3x fa-fw\"></i>Yannick Vinkesteijn</li>\n",
    "  <li><span class=\"fa-stack fa-lg\">\n",
    "    <i style=\"color: firebrick\" class=\"fa fa-spinner fa-stack-1x  fa-pulse fa-3x fa-fw\"></i>\n",
    "    <i class=\"fa fa-ban fa-stack-1x text-danger\"></i>\n",
    "  </span>10146229</li>\n",
    "</ul>\n",
    "\n",
    "<center><details><summary><bold>You wanna have some fun?? Go on, click me!</bold></summary>\n",
    "<p>\n",
    "    <h2><center>Who doesn't like the steepest of descents?</center></h2>\n",
    "<img src=\"https://mbaction.com/wp-content/uploads/2017/03/IMGL6297.jpg\" width=\"300\">\n",
    "\n",
    "</p>\n",
    "</details></center>"
   ]
  },
  {
   "cell_type": "markdown",
   "metadata": {},
   "source": [
    "----\n",
    "# Project keywords\n",
    "Optimization, time integration"
   ]
  },
  {
   "cell_type": "markdown",
   "metadata": {},
   "source": [
    "----\n",
    "# Project description\n",
    "In various fields of application (e.g. physics, chemistry, biology), modeling systems as noise-driven motion in a potential landscape has been very successful. Such systems can spend most of their time in or near the bottom of a potential well, and are occasionally triggered by the noise to \"hop over\" to another well. How frequently such transitions occur depends on the noise amplitude. With small noise, transitions occur very infrequently (\"rare events\"), and the potential wells correspond to preferred states or metastable states of the system. Think of the phenomenon of protein folding, with the folded and unfolded states as metastable states.\n",
    "\n",
    "If the noise is small and the potential smooth, transitions typically follow \\textit{minimum energy paths}. An important question is what these paths look like. Answering this question by forward time integration is impractical or even impossible if the transitions are rare (in which case excessively long integrations would be needed to observe just one or a few transitions). Instead, one can try to compute the paths directly using minimization.\n",
    "\n",
    "The following potential, with $(x_1,x_2) = \\mathbf{x} \\in \\mathbb{R}^2$, is frequently used in this context:\n",
    "$$V(x_1,x_2) = \\sum_{i=1}^4 A_i \\, \\exp \\left( a_i(x_1-\\bar x_1^{(i)})^2 + b_i(x_1-\\bar x_1^{(i)})(x_2-\\bar x_2^{(i)} ) + c_i (x_2-\\bar x_2^{(i)})^2 \\right)$$\n",
    "with constants \n",
    "$$\\{A_i \\}=(-200,-100,-170,15), \\{a_i \\} = (-1, -1, -6.5, 0.7), \\{ b_i \\}=(0, 0, 11, 0.6), $$\n",
    "$$\\{ c_i \\} = (-10, -10, -6.5, 0.7), \\{ \\bar x_1^{(i)} \\} = (1, 0, -0.5, -1), \\{ \\bar x_2^{(i)} \\} = (0, 0.5, 1.5, 1).$$\n",
    "\n",
    "This potential has three local minima, these can be found by minimization. If we have two states $\\mathbf{A}$ and $\\mathbf{B}$ and we want to compute the minimum energy path that connects them, we can create a chain of $N+1$ states $\\{ \\mathbf{x}_0, \\mathbf{x}_1, ..., \\mathbf{x}_N \\}$ with $\\mathbf{x}_0=\\mathbf{A}$ and $\\mathbf{x}_N=\\mathbf{B}$, and define the energy of the chain as\n",
    "$$E(\\mathbf{x}_0, \\mathbf{x}_1, ..., \\mathbf{x}_N) = \\sum_{j=0}^N V(\\mathbf{x}_j) + \\frac12 k \\sum_{j=1}^N \\| \\mathbf{x}_j-\\mathbf{x}_{j-1} \\|_2^2.$$\n",
    "\n",
    "By minimizing $E$ over the coordinates of the states $\\mathbf{x}_1, ..., \\mathbf{x}_{N-1}$, we can approximate the minimum energy path as the path $\\mathbf{x}_0 \\rightarrow \\mathbf{x}_1 \\rightarrow ... \\rightarrow \\mathbf{x}_{N}$. This method is sometimes referred to as the \"elastic band\" method."
   ]
  },
  {
   "cell_type": "markdown",
   "metadata": {},
   "source": [
    "----\n",
    "# Project exercises"
   ]
  },
  {
   "cell_type": "markdown",
   "metadata": {},
   "source": [
    "## Exercise 1\n",
    "Read section 6.5 from the book by Heath."
   ]
  },
  {
   "cell_type": "markdown",
   "metadata": {},
   "source": [
    "## Exercise 2\n",
    "Locate the minima of the potential $V$ by minimization. Discuss the algorithm that you use for this.\n",
    "\n",
    "$\\mathbf{x} \\in \\mathbb{R}^2$, is frequently used in this context:\n",
    "$$V(x_1,x_2) = \\sum_{i=1}^4 A_i \\, \\exp \\left( a_i(x_1-\\bar x_1^{(i)})^2 + b_i(x_1-\\bar x_1^{(i)})(x_2-\\bar x_2^{(i)} ) + c_i (x_2-\\bar x_2^{(i)})^2 \\right)$$\n",
    "\n",
    "with constants \n",
    "\n",
    "$$\\{A_i \\}=(-200,-100,-170,15), \\{a_i \\} = (-1, -1, -6.5, 0.7), \\{ b_i \\}=(0, 0, 11, 0.6), $$\n",
    "$$\\{ c_i \\} = (-10, -10, -6.5, 0.7), \\{ \\bar x_1^{(i)} \\} = (1, 0, -0.5, -1), \\{ \\bar x_2^{(i)} \\} = (0, 0.5, 1.5, 1).$$\n"
   ]
  },
  {
   "cell_type": "markdown",
   "metadata": {},
   "source": [
    "### Locating minima\n",
    "\n",
    "To locate the mini of function $V_{x_1, x_2}$ we have created several ways of doing so. \n",
    "\n",
    "1. The first is a function that is provided on https://stackoverflow.com/questions/3986345/how-to-find-the-local-minima-of-a-smooth-multidimensional-array-in-numpy-efficie. Here we create boolean array of neighborhoods where a minimum value within that neighborhood exists where the neighborhoods that contain a minimum are set to 1. This array contains all peaks, but also their surroundings, so another array is made with scipy binary erosion that is a mathematical morphology operation used for image processing. Here we find the surroundings of the peaks, which we can than substract from our earlier array, leaving us with an array filter of the indexes of the minima within the original array of $V_{x_1, x_2}$. So then applying this filter to the V array, we get the values of the local and global minima if we filter zero values out.\n",
    "2. Allthough not as precise, a hillclimber or, by adding an acceptance temperature, a simulated annealing algorithm can also be used to find these minima."
   ]
  },
  {
   "cell_type": "markdown",
   "metadata": {},
   "source": [
    "### 1. Scipy functionality to find the minima"
   ]
  },
  {
   "cell_type": "code",
   "execution_count": 1,
   "metadata": {
    "ExecuteTime": {
     "end_time": "2018-12-16T16:36:31.064343Z",
     "start_time": "2018-12-16T16:36:30.389480Z"
    }
   },
   "outputs": [],
   "source": [
    "from ipywidgets import interact, interactive, fixed, interact_manual\n",
    "from IPython.display import IFrame, display, HTML, Markdown\n",
    "import scipy.ndimage.morphology as morphology\n",
    "import scipy.ndimage.filters as filters\n",
    "from mpl_toolkits.mplot3d import axes3d\n",
    "import matplotlib.pyplot as plt\n",
    "from numpy import linalg as LA\n",
    "import ipywidgets as widgets\n",
    "import numpy as np\n",
    "import pickle\n",
    "import math\n",
    "\n",
    "%matplotlib inline\n",
    "\n",
    "\n",
    "def printmd(string):\n",
    "    display(Markdown(string))\n",
    "\n",
    "\n",
    "def log_progress(sequence, every=None, size=None, name='Items'):\n",
    "    from ipywidgets import IntProgress, HTML, VBox\n",
    "    from IPython.display import display\n",
    "\n",
    "    is_iterator = False\n",
    "    if size is None:\n",
    "        try:\n",
    "            size = len(sequence)\n",
    "        except TypeError:\n",
    "            is_iterator = True\n",
    "    if size is not None:\n",
    "        if every is None:\n",
    "            if size <= 200:\n",
    "                every = 1\n",
    "            else:\n",
    "                every = int(size / 200)  # every 0.5%\n",
    "    else:\n",
    "        assert every is not None, 'sequence is iterator, set every'\n",
    "\n",
    "    if is_iterator:\n",
    "        progress = IntProgress(min=0, max=1, value=1)\n",
    "        progress.bar_style = 'info'\n",
    "    else:\n",
    "        progress = IntProgress(min=0, max=size, value=0)\n",
    "    label = HTML()\n",
    "    box = VBox(children=[label, progress])\n",
    "    display(box)\n",
    "\n",
    "    index = 0\n",
    "    try:\n",
    "        for index, record in enumerate(sequence, 1):\n",
    "            if index == 1 or index % every == 0:\n",
    "                if is_iterator:\n",
    "                    label.value = '{name}: {index} / ?'.format(\n",
    "                        name=name, index=index)\n",
    "                else:\n",
    "                    progress.value = index\n",
    "                    label.value = u'{name}: {index} / {size}'.format(\n",
    "                        name=name, index=index, size=size)\n",
    "            yield record\n",
    "    except:\n",
    "        progress.bar_style = 'danger'\n",
    "        raise\n",
    "    else:\n",
    "        progress.bar_style = 'success'\n",
    "        progress.value = index\n",
    "        label.value = \"{name}: {index}\".format(\n",
    "            name=name, index=str(index or '?'))\n",
    "\n",
    "\n",
    "def Vx(x1, x2, A, a, b, C, xbar1, xbar2):\n",
    "    return np.sum([\n",
    "        A[i] * np.exp((a[i] * (x1 - xbar1[i])**2) + (b[i] * (x1 - xbar1[i])) *\n",
    "                      (x2 - xbar2[i]) + C[i] * (x2 - xbar2[i])**2)\n",
    "        for i in range(len(A))\n",
    "    ])"
   ]
  },
  {
   "cell_type": "code",
   "execution_count": 2,
   "metadata": {
    "ExecuteTime": {
     "end_time": "2018-12-16T16:36:31.078881Z",
     "start_time": "2018-12-16T16:36:31.069356Z"
    }
   },
   "outputs": [],
   "source": [
    "A = [-200, -100, -170, 15]\n",
    "a = [-1, -1, -6.5, 0.7]\n",
    "b = [0, 0, 11, 0.6]\n",
    "c = [-10, -10, -6.5, 0.7]\n",
    "xbar1 = [1, 0, -0.5, -1]\n",
    "xbar2 = [0, 0.5, 1.5, 1]\n",
    "xmin = -1.5\n",
    "xmax = 1.5\n",
    "ymin = -0.5\n",
    "ymax = 2\n",
    "stepRate = math.pow(10, -10)\n",
    "stepSize = (abs(xmin) + abs(xmax)) * stepRate"
   ]
  },
  {
   "cell_type": "code",
   "execution_count": 3,
   "metadata": {
    "ExecuteTime": {
     "end_time": "2018-12-16T16:36:33.189670Z",
     "start_time": "2018-12-16T16:36:31.083393Z"
    }
   },
   "outputs": [
    {
     "data": {
      "text/markdown": [
       "**List of minima:** [-146.67901464  -80.76687618 -108.16535922]\n"
      ],
      "text/plain": [
       "<IPython.core.display.Markdown object>"
      ]
     },
     "metadata": {},
     "output_type": "display_data"
    },
    {
     "name": "stdout",
     "output_type": "stream",
     "text": [
      "Minimum -146.6790146419298 resides on location: ((-0.5653266331658292, 1.434673366834171))\n",
      "Minimum -80.76687618333995 resides on location: ((-0.05276381909547734, 0.46733668341708545))\n",
      "Minimum -108.16535922119755 resides on location: ((0.6256281407035176, 0.027638190954773934))\n"
     ]
    }
   ],
   "source": [
    "def detect_local_minima(arr):\n",
    "    \"\"\"\n",
    "    Takes an array and detects the troughs using the local maximum filter.\n",
    "    Returns a boolean mask of the troughs (i.e. 1 when\n",
    "    the pixel's value is the neighborhood maximum, 0 otherwise)\n",
    "    \"\"\"\n",
    "    # define a connected neighborhood\n",
    "    neighborhood = morphology.generate_binary_structure(len(arr.shape), 2)\n",
    "\n",
    "    # apply the local minimum filter; all locations of minimum value\n",
    "    # in their neighborhood are set to 1\n",
    "    local_min = (filters.minimum_filter(arr, footprint=neighborhood) == arr)\n",
    "\n",
    "    # local_min is a mask that contains the peaks we are\n",
    "    # looking for, but also the background.\n",
    "    # In order to isolate the peaks we must remove the background from the mask.\n",
    "    # we create the mask of the background\n",
    "    background = (arr == 0)\n",
    "\n",
    "    # a little technicality: we must erode the background in order to\n",
    "    # successfully subtract it from local_min, otherwise a line will\n",
    "    # appear along the background border (artifact of the local minimum filter)\n",
    "    eroded_background = morphology.binary_erosion(\n",
    "        background, structure=neighborhood, border_value=1)\n",
    "\n",
    "    # we obtain the final mask, containing only peaks,\n",
    "    # by removing the background from the local_min mask\n",
    "    detected_minima = local_min ^ eroded_background\n",
    "    return np.where(detected_minima)\n",
    "\n",
    "\n",
    "# fill in data within bounds\n",
    "X = np.array(np.linspace(xmin, xmax, 200))\n",
    "Y = np.array(np.linspace(ymin, ymax, 200))\n",
    "Z = []\n",
    "\n",
    "for x1val in X:\n",
    "    temp = []\n",
    "    for x2val in Y:\n",
    "        V = Vx(x1val, x2val, A, a, b, c, xbar1, xbar2)\n",
    "        if V > 100:\n",
    "            temp.append(0)\n",
    "        else:\n",
    "            temp.append(V)\n",
    "    Z.append(temp)\n",
    "Z = np.array(Z)\n",
    "\n",
    "# print minima\n",
    "printmd(\n",
    "    f\"**List of minima:** {Z[detect_local_minima(Z)][Z[detect_local_minima(Z)]<0]}\\n\"\n",
    ")\n",
    "\n",
    "# get index of the tuple index of the minima\n",
    "indexes = np.transpose(np.nonzero(Z[detect_local_minima(Z)]))\n",
    "\n",
    "# print locations of minima\n",
    "_ = [\n",
    "    print(\n",
    "        f\"Minimum {Z[detect_local_minima(Z)][Z[detect_local_minima(Z)]<0][i]} resides on location: ({X[detect_local_minima(Z)[0][mini[0]]], Y[detect_local_minima(Z)[1][mini[0]]]})\"\n",
    "    ) for i, mini in enumerate(indexes)\n",
    "]\n",
    "\n",
    "forScatter = [[\n",
    "    Z[detect_local_minima(Z)][Z[detect_local_minima(Z)] < 0][i],\n",
    "    X[detect_local_minima(Z)[0][mini[0]]],\n",
    "    Y[detect_local_minima(Z)[1][mini[0]]]\n",
    "] for i, mini in enumerate(indexes)]"
   ]
  },
  {
   "cell_type": "markdown",
   "metadata": {},
   "source": [
    "### 2. Simulated annealing (or hillclimber when $Temp=0$)"
   ]
  },
  {
   "cell_type": "code",
   "execution_count": 4,
   "metadata": {
    "ExecuteTime": {
     "end_time": "2018-12-16T16:36:33.909581Z",
     "start_time": "2018-12-16T16:36:33.196689Z"
    }
   },
   "outputs": [
    {
     "data": {
      "text/markdown": [
       "**Hillclimber algorithm**"
      ],
      "text/plain": [
       "<IPython.core.display.Markdown object>"
      ]
     },
     "metadata": {},
     "output_type": "display_data"
    },
    {
     "name": "stdout",
     "output_type": "stream",
     "text": [
      "Eventual coordinates of Hillclimber algorithm: ((-0.5679, 1.4332) ended on score -146.6641\n",
      "Eventual coordinates of Hillclimber algorithm: ((-0.5657, 1.4357) ended on score -146.6784\n",
      "Eventual coordinates of Hillclimber algorithm: ((-0.0554, 0.4669) ended on score -80.7645\n",
      "Eventual coordinates of Hillclimber algorithm: ((-0.0664, 0.4684) ended on score -80.7378\n",
      "Eventual coordinates of Hillclimber algorithm: ((0.6257, 0.0245) ended on score -108.1478\n",
      "Eventual coordinates of Hillclimber algorithm: ((0.6429, 0.0282) ended on score -108.0598\n"
     ]
    },
    {
     "data": {
      "text/markdown": [
       "\n",
       "**Simulated annealing algorithm**"
      ],
      "text/plain": [
       "<IPython.core.display.Markdown object>"
      ]
     },
     "metadata": {},
     "output_type": "display_data"
    },
    {
     "name": "stdout",
     "output_type": "stream",
     "text": [
      "Eventual coordinates of simulated annealing algorithm: ((-0.5552, 1.4409) ended on score -146.684\n",
      "Eventual coordinates of simulated annealing algorithm: ((-0.5504, 1.4447) ended on score -146.6637\n",
      "Eventual coordinates of simulated annealing algorithm: ((-0.0493, 0.4695) ended on score -80.7616\n",
      "Eventual coordinates of simulated annealing algorithm: ((-0.0546, 0.4676) ended on score -80.7654\n",
      "Eventual coordinates of simulated annealing algorithm: ((0.626, 0.0248) ended on score -108.1509\n",
      "Eventual coordinates of simulated annealing algorithm: ((0.621, 0.0257) ended on score -108.1555\n"
     ]
    }
   ],
   "source": [
    "def move_new(x1, x2, mut_size, max_mut=1):\n",
    "\n",
    "    x1_lst, x2_lst, new_score = [], [], []\n",
    "    x_tups = np.array([(1, 0), (1, -1), (0, -1), (-1, -1), (-1, 0), (-1, 1),\n",
    "                       (0, 1), (1, 1)])\n",
    "\n",
    "    x_tup = get_coors(x1, x2, mut_size)\n",
    "\n",
    "    new_x = (x_tups * x_tup) + (x1, x2)\n",
    "    new_score = [Vx(x[0], x[1], A, a, b, c, xbar1, xbar2) for x in new_x]\n",
    "    return new_score.index(min(new_score)), new_x[new_score.index(\n",
    "        min(new_score))], min(new_score)\n",
    "\n",
    "\n",
    "def get_coors(x1, x2, mut_size):\n",
    "\n",
    "    new_x1 = abs(np.random.normal(0, mut_size, 1)[0])\n",
    "    new_x2 = abs(np.random.normal(0, mut_size, 1)[0])\n",
    "    qiv = 1.96 * mut_size\n",
    "\n",
    "    if -qiv < new_x1 < qiv and -qiv < new_x2 < qiv:\n",
    "        return new_x1, new_x2\n",
    "    return get_coors(x1, x2, mut_size)\n",
    "\n",
    "\n",
    "def getScheme_data(iters, plot=\"No\"):\n",
    "    linspace = np.linspace(0, 9, iters)\n",
    "    answer = []\n",
    "\n",
    "    for x in linspace:\n",
    "        answer.append(0.5 +\n",
    "                      math.erf((math.sqrt(math.pi) / 2) * (x - 2)) * -0.5)\n",
    "    return answer\n",
    "\n",
    "\n",
    "def mp_hillclimber(n_it, n_p, climb_scheme=\"Hillclimb\"):\n",
    "    if climb_scheme == \"simAn\": scheme = getScheme_data(n_it)\n",
    "    xcoords = np.linspace(-0.85, 0.5, n_p)\n",
    "    ycoords = np.linspace(1.35, 0.0, n_p)\n",
    "    coords = [(x, y) for x, y in zip(xcoords, ycoords)]\n",
    "    cur_coords = coords\n",
    "    cur_scores = [Vx(x[0], x[1], A, a, b, c, xbar1, xbar2) for x in coords]\n",
    "    cur_score = np.mean(cur_scores)\n",
    "    coors_list = {\"x\": [xcoords], \"y\": [ycoords], \"z\": [cur_scores]}\n",
    "    for i in range(n_it):\n",
    "        new_coors, new_score = [], []\n",
    "        for x1, x2 in cur_coords:\n",
    "            new = move_new(x1, x2, mut_size=0.05)\n",
    "            new_coors.append(new[1])\n",
    "            new_score.append(new[2])\n",
    "        if np.mean(new_score) < cur_score:\n",
    "            cur_score = np.mean(new_score)\n",
    "            cur_coords = new_coors\n",
    "            coors_list[\"x\"].append(list(np.array(new_coors)[:, 0]))\n",
    "            coors_list[\"y\"].append(list(np.array(new_coors)[:, 1]))\n",
    "            coors_list[\"z\"].append(new_score)\n",
    "        elif climb_scheme == \"simAn\":\n",
    "            if scheme[i] > np.random.uniform():\n",
    "                cur_score = np.mean(new_score)\n",
    "                cur_coords = new_coors\n",
    "                coors_list[\"x\"].append(list(np.array(new_coors)[:, 0]))\n",
    "                coors_list[\"y\"].append(list(np.array(new_coors)[:, 1]))\n",
    "                coors_list[\"z\"].append(new_score)\n",
    "\n",
    "    return coors_list\n",
    "\n",
    "\n",
    "data = mp_hillclimber(100, 6)\n",
    "printmd(\"**Hillclimber algorithm**\")\n",
    "_ = [\n",
    "    print(\n",
    "        f\"Eventual coordinates of Hillclimber algorithm: ({round(data['x'][-1][i], 4), round(data['y'][-1][i], 4)} ended on score {round(data['z'][-1][i], 4)}\"\n",
    "    ) for i in range(len(data[\"x\"][-1]))\n",
    "]\n",
    "printmd(\"\\n**Simulated annealing algorithm**\")\n",
    "data = mp_hillclimber(100, 6, \"simAn\")\n",
    "\n",
    "_ = [\n",
    "    print(\n",
    "        f\"Eventual coordinates of simulated annealing algorithm: ({round(data['x'][-1][i], 4), round(data['y'][-1][i], 4)} ended on score {round(data['z'][-1][i], 4)}\"\n",
    "    ) for i in range(len(data[\"x\"][-1]))\n",
    "]"
   ]
  },
  {
   "cell_type": "markdown",
   "metadata": {},
   "source": [
    "## Exercise 3\n",
    "Make a figure of the potential $V(\\mathbf{x})$ for $(x_1,x_2) \\in [-1.5, 1.5]\\times [-0.5,2]$. Indicate the locations of the minima."
   ]
  },
  {
   "cell_type": "markdown",
   "metadata": {},
   "source": [
    "### Again, we present 2 ways\n",
    "\n",
    "For this exercise we have created two ways of visualizing the function.\n",
    "\n",
    "1. A wireframe is presented to show the overall flow of data in 3d.\n",
    "2. A countour figure is given with the points as they are calculated within the simulated annealing algorithm. With the slider above, we can move through simulation time and see the dots reacting to the algorithm, moving towards the minima.\n",
    "\n",
    "\n",
    "<div class=\"alert alert-danger\">\n",
    "Note: The contouring shows a strange deviation from the scatter dots with respect to the contour picture. A strange sight, but the code works properly so please excuse us for this strange behaviour.\n",
    "</div>"
   ]
  },
  {
   "cell_type": "markdown",
   "metadata": {},
   "source": [
    "#### Wireframe"
   ]
  },
  {
   "cell_type": "code",
   "execution_count": 5,
   "metadata": {
    "ExecuteTime": {
     "end_time": "2018-12-16T16:36:34.497136Z",
     "start_time": "2018-12-16T16:36:33.916091Z"
    }
   },
   "outputs": [
    {
     "data": {
      "image/png": "[encoded data removed]",
      "text/plain": [
       "<Figure size 576x432 with 1 Axes>"
      ]
     },
     "metadata": {},
     "output_type": "display_data"
    }
   ],
   "source": [
    "import matplotlib.pyplot as plt\n",
    "from mpl_toolkits.mplot3d import axes3d\n",
    "\n",
    "fig = plt.figure(figsize=(8, 6))\n",
    "ax = fig.add_subplot(111, projection='3d')\n",
    "\n",
    "X3d = np.array([X for x in np.flip(X,0)])\n",
    "Y3d = np.array([np.repeat(np.array([y]), len(Y)) for y in Y])\n",
    "Z3d = np.flip(np.flip(np.array(Z),0),1)\n",
    "\n",
    "# Plot a basic wireframe.\n",
    "ax.plot_wireframe(X3d, Y3d, Z3d, rstride=10, cstride=10)\n",
    "for i in range(len(forScatter)):\n",
    "    ax.scatter(forScatter[i][1],forScatter[i][2],forScatter[i][0], c=\"r\", s=60, marker=\"x\")\n",
    "\n",
    "elevation=-5 #or -15\n",
    "angle=(45)\n",
    "ax.view_init(elev = elevation, azim=angle)\n",
    "plt.draw()"
   ]
  },
  {
   "cell_type": "markdown",
   "metadata": {},
   "source": [
    "#### Contour plot"
   ]
  },
  {
   "cell_type": "code",
   "execution_count": 6,
   "metadata": {
    "ExecuteTime": {
     "end_time": "2018-12-16T16:36:35.057890Z",
     "start_time": "2018-12-16T16:36:34.499643Z"
    }
   },
   "outputs": [
    {
     "data": {
      "application/vnd.jupyter.widget-view+json": {
       "model_id": "cfc81c7e0aac4dd79753114f059a6cb0",
       "version_major": 2,
       "version_minor": 0
      },
      "text/plain": [
       "interactive(children=(IntSlider(value=0, description='i', max=30), Output()), _dom_classes=('widget-interact',…"
      ]
     },
     "metadata": {},
     "output_type": "display_data"
    }
   ],
   "source": [
    "def showPlot(i=0):\n",
    "    contours = plt.contour(X, Y, Z, 3, colors='black')\n",
    "    plt.clabel(contours, inline=True, fontsize=8)\n",
    "\n",
    "    plt.imshow(\n",
    "        Z,\n",
    "        extent=[np.min(X), np.max(X),\n",
    "                np.min(Y), np.max(Y)],\n",
    "        origin='lower',\n",
    "        cmap='RdGy',\n",
    "        alpha=0.7)\n",
    "    plt.colorbar()\n",
    "    for j in range(len(data[\"x\"][i])):\n",
    "        plt.scatter(data[\"x\"][i][j], data[\"y\"][i][j], c=\"b\")\n",
    "    plt.show\n",
    "\n",
    "\n",
    "y = interactive(showPlot, i=(0, len(data[\"x\"]) - 1, 1))\n",
    "display(y)"
   ]
  },
  {
   "cell_type": "markdown",
   "metadata": {},
   "source": [
    "## Exercise 4\n",
    "What are the free variables of the chain energy $E$  (there should be $2N-2$ in total)?\n",
    "\n",
    "The free variables consist of the following variables of vector X:\n",
    "\n",
    "$$x_{1_1} \\rightarrow x_{2_1} \\rightarrow x_{1_2} \\rightarrow x_{2_2} \\cdots x_{1_N-1} \\rightarrow x_{2_N-1}$$\n",
    "\n",
    "The first step to determining the gradient is to calculate the partial derivative for every variable:\n",
    "\n",
    "$$f'(x_1) = \\sum_{i=0}^N \\sum_{j=1}^4 A_j* (2a_j(x_{1_i}- \\hat{x}_1^{(j)})+b_j(x_{2_i}- \\hat{x}_2^{(j)}))*e^{a_j(x_{1_i}- \\hat{x}_1^{(j)}) + b_j(x_{1_i}- \\hat{x}_1^{(j)})(x_{2_i}- \\hat{x}_2^{(j)})} + \\frac k2 \\sum_{i=1}^N(x_{1_i} - x_{1_{i-1}})^2 $$  \n",
    "\n",
    "$$f'(x_2) = \\sum_{i=0}^N \\sum_{j=1}^4 A_j* (2c_j(x_{2_i}- \\hat{x}_2^{(j)})+b_j(x_{1_i}- \\hat{x}_1^{(j)}))*e^{b_j(x_{1_i}- \\hat{x}_1^{(j)})(x_{2_i}- \\hat{x}_2^{(j)}) + c_j(x_{2_i}- \\hat{x}_2^{(j)})^2} + \\frac k2 \\sum_{i=1}^N(x_{2_i} - x_{2_{i-1}})^2 $$ \n",
    "\n",
    "Now we can determine the gradient as follows:\n",
    "$$\\nabla E(x1,x2)=\n",
    "\\begin{pmatrix}  \\sum_{j=1}^4 A_j*(2a_j(x_{1_1}- \\hat{x}_1^{(j)})+b_j(x_{2_1}- \\hat{x}_2^{(j)}))*e^{a_j(x_{1_1}- \\hat{x}_1^{(j)}) + b_j(x_{1_1}- \\hat{x}_1^{(j)})(x_{2_1}- \\hat{x}_2^{(j)})} + \\frac k2(x_{1_1} - x_{1_0})^2\\\\   \n",
    " \\sum_{j=1}^4 A_j*(2c_j(x_{2_2}- \\hat{x}_2^{(j)})+b_j(x_{1_2}- \\hat{x}_1^{(j)}))*e^{b_j(x_{1_1}- \\hat{x}_1^{(j)})(x_{2_1}- \\hat{x}_2^{(j)}) + c_j(x_{2_1}- \\hat{x}_2^{(j)})^2} +\\frac k2(x_{2_1} - x_{2_0})^2\\\\\n",
    "\\vdots\\\\\n",
    "\\sum_{j=1}^4 A_j*(2a_j(x_{1_{n-1}}- \\hat{x}_1^{(j)})+b_j(x_{2_{n-1}}- \\hat{x}_2^{(j)}))*e^{a_j(x_{1_{n-1}}- \\hat{x}_1^{(j)}) + b_j(x_{1_{n-1}}- \\hat{x}_1^{(j)})(x_{2_{n-1}}- \\hat{x}_2^{(j)})} + \\frac k2 (x_{1_{n-1}} - x_{1_{n-2}})^2\\\\\n",
    "\\sum_{j=1}^4 A_j*(2c_j(x_{2_{n-1}}- \\hat{x}_2^{(j)})+b_j(x_{1_{n-1}}- \\hat{x}_1^{(j)}))*e^{b_j(x_{1_{n-1}}- \\hat{x}_1^{(j)})(x_{2_{n-1}}- \\hat{x}_2^{(j)}) + c_j(x_{2_{n-1}}- \\hat{x}_2^{(j)})^2} + \\frac k2 (x_{2_{n-1}} - x_{2_{n-2}})^2 \\end{pmatrix} $$\n",
    "\n"
   ]
  },
  {
   "cell_type": "markdown",
   "metadata": {
    "ExecuteTime": {
     "end_time": "2018-12-16T13:11:10.685565Z",
     "start_time": "2018-12-16T13:11:10.681046Z"
    }
   },
   "source": [
    "## Exercise 5\n",
    "Formulate the steepest descent method to minimize $E$ under variation of the free variables."
   ]
  },
  {
   "cell_type": "code",
   "execution_count": 11,
   "metadata": {
    "ExecuteTime": {
     "end_time": "2018-12-16T16:44:16.017204Z",
     "start_time": "2018-12-16T16:44:15.932955Z"
    },
    "scrolled": false
   },
   "outputs": [],
   "source": [
    "from sympy import *\n",
    "from ipywidgets import interact, interactive, fixed, interact_manual\n",
    "import ipywidgets as widgets\n",
    "from IPython.display import display\n",
    "\n",
    "A = [-200, -100, -170, 15]\n",
    "a = [-1, -1, -6.5, 0.7]\n",
    "b = [0, 0, 11, 0.6]\n",
    "c = [-10, -10, -6.5, 0.7]\n",
    "xbar1 = [1, 0, -0.5, -1]\n",
    "xbar2 = [0, 0.5, 1.5, 1]\n",
    "xmin = -1.5\n",
    "xmax = 1.5\n",
    "ymin = -0.5\n",
    "ymax = 2\n",
    "stepRate = math.pow(10, -10)\n",
    "stepSize = (abs(xmin) + abs(xmax)) * stepRate\n",
    "\n",
    "x1 = Symbol(\"x1\")\n",
    "x2 = Symbol(\"x2\")\n",
    "f = (-200 * exp((-1 * (x1 - 1)**2) +\n",
    "                (0 * (x1 - 0)) * (x2 - 0) + -10 * (x2 - 0)**2)) + (-100 * exp(\n",
    "                    (-1 * (x1 - 0)**2) + (0 * (x1 - 0)) * (x2 - 0.5) + -10 *\n",
    "                    (x2 - 0.5)**2)) + (-170 * exp(\n",
    "                        (-6.5 * (x1 - -0.5)**2) +\n",
    "                        (11 * (x1 - -0.5)) * (x2 - 1.5) + -6.5 *\n",
    "                        (x2 - 1.5)**2)) + (15 * exp(\n",
    "                            (0.7 * (x1 - -1)**2) +\n",
    "                            (11 * (x1 - -1)) * (x2 - 1) + 0.7 * (x2 - 1)**2))\n",
    "\n",
    "fpx1 = f.diff(x1)\n",
    "fpx2 = f.diff(x2)\n",
    "grad = [fpx1, fpx2]\n",
    "\n",
    "# Data\n",
    "alpha = .0001\n",
    "check = 0\n",
    "precision = 1 / 1000000\n",
    "printData = True\n",
    "maxIterations = 1000\n",
    "\n",
    "\n",
    "def gradient_descent(n_p, k, x1min, x2min, x1max, x2max):\n",
    "    xcoords = np.linspace(x1min, x1max, n_p)\n",
    "    ycoords = np.linspace(x2min, x2max, n_p)\n",
    "    x1Data = [xcoords]\n",
    "    x2Data = [ycoords]\n",
    "    VData = [100]\n",
    "\n",
    "    for iterations in log_progress(range(maxIterations), every=1):\n",
    "        temp_scores = [f.subs([(x1, xcoords[0]), (x2, ycoords[0])]).evalf()]\n",
    "        temp_theta = [xcoords[0]]\n",
    "        temp_theta1 = [ycoords[0]]\n",
    "        Enorms = []\n",
    "        for i1, theta in enumerate(xcoords[1:-1]):\n",
    "            theta1 = ycoords[i1+1]\n",
    "            temptheta = theta - alpha * N(\n",
    "                fpx1.subs(x1, theta).subs(x2, theta1)).evalf()\n",
    "            temptheta1 = theta1 - alpha * N(fpx2.subs(x2, theta1)).subs(\n",
    "                x1, theta).evalf()\n",
    "\n",
    "            #If the number of iterations goes up too much, maybe theta (and/or theta1)\n",
    "            #is diverging! Let's stop the loop and try to understand.\n",
    "            if iterations + 2 > maxIterations:\n",
    "                print(\n",
    "                    \"Too many iterations. Adjust alpha and make sure that the function is convex!\"\n",
    "                )\n",
    "                printData = False\n",
    "                return 1\n",
    "\n",
    "            #If the value of theta changes less of a certain amount, our goal is met.\n",
    "            if abs(temptheta - theta) < precision and abs(temptheta1 -\n",
    "                                                          theta1) < precision:\n",
    "                printmd(\"*Run ended succesfully!*\")\n",
    "                return x1Data, x2Data, VData, iterations\n",
    "\n",
    "            #Simultaneous update\n",
    "            temp_scores.append(\n",
    "                f.subs([(x1, temptheta), (x2, temptheta1)]).evalf())\n",
    "            temp_theta.append(temptheta)\n",
    "            temp_theta1.append(temptheta1)\n",
    "            Enorms.append(LA.norm([float(temptheta -theta), float(temptheta1 - theta1)], ord=2)**2)\n",
    "        \n",
    "        temp_E= np.sum(temp_scores)+(0.5*k*np.sum(Enorms))\n",
    "        temp_scores.append(f.subs([(x1, xcoords[-1]), (x2, ycoords[-1])]).evalf())\n",
    "        temp_theta.append(xcoords[-1])\n",
    "        temp_theta1.append(ycoords[-1])\n",
    "        \n",
    "        xcoords = temp_theta\n",
    "        ycoords = temp_theta1\n",
    "        \n",
    "        if temp_E < VData[-1]:\n",
    "            x1Data.append(temp_theta)\n",
    "            x2Data.append(temp_theta1)\n",
    "            VData.append(temp_E)"
   ]
  },
  {
   "cell_type": "markdown",
   "metadata": {},
   "source": [
    "## Exercise 6\n",
    "Fix the number of states on the chain (e.g. $N=20$), and pick a value for the parameter $k$ (e.g. $k=500$). Choose two different minima of $V$ to be the begin and end states of the chain ($\\mathbf x_0$ and $\\mathbf x_N$) and minimize $E$. As initialization, you can use chain states on a straight line from $\\mathbf x_0$ to $\\mathbf x_N$.\n"
   ]
  },
  {
   "cell_type": "code",
   "execution_count": 8,
   "metadata": {
    "ExecuteTime": {
     "end_time": "2018-12-16T16:39:51.563998Z",
     "start_time": "2018-12-16T16:36:36.212460Z"
    }
   },
   "outputs": [
    {
     "data": {
      "application/vnd.jupyter.widget-view+json": {
       "model_id": "70983de0290c4cc182cf7c3116f8dc55",
       "version_major": 2,
       "version_minor": 0
      },
      "text/plain": [
       "VBox(children=(HTML(value=''), IntProgress(value=0, max=1000)))"
      ]
     },
     "metadata": {},
     "output_type": "display_data"
    },
    {
     "data": {
      "text/markdown": [
       "*Run ended succesfully!*"
      ],
      "text/plain": [
       "<IPython.core.display.Markdown object>"
      ]
     },
     "metadata": {},
     "output_type": "display_data"
    },
    {
     "data": {
      "text/markdown": [
       "**Run ended in:** 88 iterations"
      ],
      "text/plain": [
       "<IPython.core.display.Markdown object>"
      ]
     },
     "metadata": {},
     "output_type": "display_data"
    }
   ],
   "source": [
    "Nx = 20\n",
    "k = 500\n",
    "x1Data, x2Data, VData, iterations = gradient_descent(Nx, k, 0.6256, 0.0276,\n",
    "                                                     -0.5653, 1.4346)\n",
    "printmd(f\"**Run ended in:** {iterations} iterations\")"
   ]
  },
  {
   "cell_type": "markdown",
   "metadata": {
    "ExecuteTime": {
     "end_time": "2018-12-16T13:16:41.505213Z",
     "start_time": "2018-12-16T13:16:41.501198Z"
    }
   },
   "source": [
    "## Exercise 7\n",
    "Show the path $\\mathbf{x}_0 \\rightarrow \\mathbf{x}_1 \\rightarrow ... \\rightarrow \\mathbf{x}_{N}$ at several stages during the minimization of $E$ (initialization, final result, some intermediate stages)."
   ]
  },
  {
   "cell_type": "code",
   "execution_count": 9,
   "metadata": {
    "ExecuteTime": {
     "end_time": "2018-12-16T16:39:52.102225Z",
     "start_time": "2018-12-16T16:39:51.567507Z"
    }
   },
   "outputs": [
    {
     "name": "stdout",
     "output_type": "stream",
     "text": [
      "The function -100*exp(-x1**2 - 10*(x2 - 0.5)**2) - 200*exp(-10*x2**2 - (x1 - 1)**2) - 170*exp(-6.5*(x1 + 0.5)**2 + (11*x1 + 5.5)*(x2 - 1.5) - 6.5*(x2 - 1.5)**2) + 15*exp(0.7*(x1 + 1)**2 + (11*x1 + 11)*(x2 - 1) + 0.7*(x2 - 1)**2)converges to a minimum\n",
      "Number of iterations: 88\n",
      "best score = -2638.06297887153\n"
     ]
    },
    {
     "data": {
      "text/markdown": [
       "**Usually the best path like behaviour can be seen around iteration *15***"
      ],
      "text/plain": [
       "<IPython.core.display.Markdown object>"
      ]
     },
     "metadata": {},
     "output_type": "display_data"
    },
    {
     "data": {
      "application/vnd.jupyter.widget-view+json": {
       "model_id": "1bbed1b496f04894880f41537f6f2d8b",
       "version_major": 2,
       "version_minor": 0
      },
      "text/plain": [
       "interactive(children=(IntSlider(value=0, description='i', max=88), Output()), _dom_classes=('widget-interact',…"
      ]
     },
     "metadata": {},
     "output_type": "display_data"
    }
   ],
   "source": [
    "def showPlot(i=0):\n",
    "    contours = plt.contour(X, Y, Z, 3, colors='black')\n",
    "    plt.clabel(contours, inline=True, fontsize=8)\n",
    "\n",
    "    plt.imshow(\n",
    "        Z,\n",
    "        extent=[np.min(X), np.max(X),\n",
    "                np.min(Y), np.max(Y)],\n",
    "        origin='lower',\n",
    "        cmap='RdGy',\n",
    "        alpha=0.7)\n",
    "    plt.colorbar()\n",
    "    for j in range(len(x1Data[i])):\n",
    "        plt.scatter(x1Data[i][j], x2Data[i][j], c=\"b\")\n",
    "    plt.show\n",
    "    \n",
    "if printData:\n",
    "    print(f\"The function {str(f)}converges to a minimum\")\n",
    "    print(f\"Number of iterations: {iterations}\")\n",
    "    print(f\"best score = {VData[-1]}\")\n",
    "    printmd(\"**Usually the best path like behaviour can be seen around iteration *15***\")\n",
    "\n",
    "y = interactive(showPlot, i=(0, len(x1Data) - 1, 1))\n",
    "display(y)"
   ]
  },
  {
   "cell_type": "markdown",
   "metadata": {},
   "source": [
    "\n",
    "## Exercise 8\n",
    "Explore what happens with larger values of $N$ and different choices for $k$. How can we interpret $k$?"
   ]
  },
  {
   "cell_type": "code",
   "execution_count": null,
   "metadata": {
    "ExecuteTime": {
     "start_time": "2018-12-16T16:44:24.942Z"
    }
   },
   "outputs": [
    {
     "data": {
      "application/vnd.jupyter.widget-view+json": {
       "model_id": "5fcb40b13fa4486eaf8bd22610f93c9a",
       "version_major": 2,
       "version_minor": 0
      },
      "text/plain": [
       "VBox(children=(HTML(value=''), IntProgress(value=0, max=1000)))"
      ]
     },
     "metadata": {},
     "output_type": "display_data"
    },
    {
     "data": {
      "text/markdown": [
       "*Run ended succesfully!*"
      ],
      "text/plain": [
       "<IPython.core.display.Markdown object>"
      ]
     },
     "metadata": {},
     "output_type": "display_data"
    },
    {
     "data": {
      "text/markdown": [
       "## For N=20 and k=300"
      ],
      "text/plain": [
       "<IPython.core.display.Markdown object>"
      ]
     },
     "metadata": {},
     "output_type": "display_data"
    },
    {
     "name": "stdout",
     "output_type": "stream",
     "text": [
      "Number of iterations: 88\n",
      "best score = -2638.06615443650\n"
     ]
    },
    {
     "data": {
      "application/vnd.jupyter.widget-view+json": {
       "model_id": "c73029fd4cc24671ad540b2d130ea447",
       "version_major": 2,
       "version_minor": 0
      },
      "text/plain": [
       "interactive(children=(IntSlider(value=0, description='i', max=88), Output()), _dom_classes=('widget-interact',…"
      ]
     },
     "metadata": {},
     "output_type": "display_data"
    },
    {
     "data": {
      "application/vnd.jupyter.widget-view+json": {
       "model_id": "ba9751d956c2452fb418a84ca65ae0c9",
       "version_major": 2,
       "version_minor": 0
      },
      "text/plain": [
       "VBox(children=(HTML(value=''), IntProgress(value=0, max=1000)))"
      ]
     },
     "metadata": {},
     "output_type": "display_data"
    },
    {
     "data": {
      "text/markdown": [
       "*Run ended succesfully!*"
      ],
      "text/plain": [
       "<IPython.core.display.Markdown object>"
      ]
     },
     "metadata": {},
     "output_type": "display_data"
    },
    {
     "data": {
      "text/markdown": [
       "## For N=20 and k=700"
      ],
      "text/plain": [
       "<IPython.core.display.Markdown object>"
      ]
     },
     "metadata": {},
     "output_type": "display_data"
    },
    {
     "name": "stdout",
     "output_type": "stream",
     "text": [
      "Number of iterations: 88\n",
      "best score = -2638.05980330656\n"
     ]
    },
    {
     "data": {
      "application/vnd.jupyter.widget-view+json": {
       "model_id": "4671ed4cf0154c8c85fd0c4f5cc9b560",
       "version_major": 2,
       "version_minor": 0
      },
      "text/plain": [
       "interactive(children=(IntSlider(value=0, description='i', max=88), Output()), _dom_classes=('widget-interact',…"
      ]
     },
     "metadata": {},
     "output_type": "display_data"
    },
    {
     "data": {
      "application/vnd.jupyter.widget-view+json": {
       "model_id": "baf2857086c34fb0a575176bcb0028a0",
       "version_major": 2,
       "version_minor": 0
      },
      "text/plain": [
       "VBox(children=(HTML(value=''), IntProgress(value=0, max=1000)))"
      ]
     },
     "metadata": {},
     "output_type": "display_data"
    }
   ],
   "source": [
    "Ns = [20, 30]\n",
    "Ks = [300, 700]\n",
    "for Nx in Ns:\n",
    "    for k in Ks:\n",
    "        x1Data, x2Data, VData, iterations = gradient_descent(\n",
    "            Nx, k, 0.6256, 0.0276, -0.5653, 1.4346)\n",
    "\n",
    "        def showPlot(i=0):\n",
    "            contours = plt.contour(X, Y, Z, 3, colors='black')\n",
    "            plt.clabel(contours, inline=True, fontsize=8)\n",
    "\n",
    "            plt.imshow(\n",
    "                Z,\n",
    "                extent=[np.min(X), np.max(X),\n",
    "                        np.min(Y), np.max(Y)],\n",
    "                origin='lower',\n",
    "                cmap='RdGy',\n",
    "                alpha=0.7)\n",
    "            plt.colorbar()\n",
    "            for j in range(len(x1Data[i])):\n",
    "                plt.scatter(x1Data[i][j], x2Data[i][j], c=\"b\")\n",
    "            plt.show\n",
    "\n",
    "        if printData:\n",
    "            printmd(f\"## For N={Nx} and k={k}\")\n",
    "            print(f\"Number of iterations: {iterations}\")\n",
    "            print(f\"best score = {VData[-1]}\")\n",
    "\n",
    "        y = interactive(showPlot, i=(0, len(x1Data) - 1, 1))\n",
    "        display(y)\n",
    "        with open('grad_desc'+str(Nx)+str(k)+'.pkl', 'wb') as fwrite:\n",
    "            pickle.dump([x1Data, x2Data, VData, iterations], fwrite)"
   ]
  },
  {
   "cell_type": "markdown",
   "metadata": {
    "ExecuteTime": {
     "end_time": "2018-12-16T15:25:58.600349Z",
     "start_time": "2018-12-16T15:22:32.448Z"
    }
   },
   "source": [
    "An increase in $k$ makes for a lower score eventually. While increasing N makes for a better showing of the optimal path, at least with a smaller gap."
   ]
  },
  {
   "cell_type": "code",
   "execution_count": null,
   "metadata": {
    "ExecuteTime": {
     "end_time": "2018-12-16T16:43:29.084643Z",
     "start_time": "2018-12-16T16:36:33.577Z"
    }
   },
   "outputs": [],
   "source": [
    "import pandas as pd\n",
    "finalData = pd.read_pickle(\"finalPickle.pkl\")\n",
    "final =  finalData.round(3).T.style.apply(highlight_min, axis=1)\n",
    "display(final)"
   ]
  },
  {
   "cell_type": "markdown",
   "metadata": {
    "ExecuteTime": {
     "end_time": "2018-12-16T15:25:58.602354Z",
     "start_time": "2018-12-16T15:22:32.463Z"
    }
   },
   "source": [
    "## Exercise 9\n",
    "The states of the chain that results from the steepest descent minimization typically group together in a few clusters, giving a poor representation of the minimum energy path. Check if this happens in your algorithm.\n",
    "\n",
    "![alt text](grad_desc.PNG \"Gradient Descent algorithm\")\n",
    "\n",
    "In this picture we see that indeed the points tend to form clusters with a shap of the gradient. However there are indeed big gaps between them.\n",
    "\n",
    "Think of a way to improve this, and experiment with your idea. Things to try:\n",
    "- modify the definition of the chain energy to include a term that \"pulls toward\" uniform line length;\n",
    "- modify the gradient for the steepest descent method to always be normal (perpendicular) to the chain."
   ]
  },
  {
   "cell_type": "code",
   "execution_count": null,
   "metadata": {},
   "outputs": [],
   "source": []
  },
  {
   "cell_type": "code",
   "execution_count": null,
   "metadata": {},
   "outputs": [],
   "source": []
  },
  {
   "cell_type": "markdown",
   "metadata": {},
   "source": [
    "# With the deepest of gratitude for our adjournment , we hereby proudly present!"
   ]
  },
  {
   "cell_type": "code",
   "execution_count": null,
   "metadata": {
    "ExecuteTime": {
     "end_time": "2018-12-16T16:43:29.086649Z",
     "start_time": "2018-12-16T16:36:34.355Z"
    }
   },
   "outputs": [],
   "source": [
    "from IPython.display import IFrame, display, HTML\n",
    "\n",
    "IFrame(\"https://www.youtube.com/embed/i874dlVV61s\", width=560, height=315)"
   ]
  },
  {
   "cell_type": "code",
   "execution_count": null,
   "metadata": {
    "ExecuteTime": {
     "end_time": "2018-12-16T16:43:29.089156Z",
     "start_time": "2018-12-16T16:36:34.377Z"
    }
   },
   "outputs": [],
   "source": [
    "IFrame(\"https://www.youtube.com/embed/afzmwAKUppU?start=14\", width=560, height=315)"
   ]
  }
 ],
 "metadata": {
  "kernelspec": {
   "display_name": "Python 3",
   "language": "python",
   "name": "python3"
  },
  "language_info": {
   "codemirror_mode": {
    "name": "ipython",
    "version": 3
   },
   "file_extension": ".py",
   "mimetype": "text/x-python",
   "name": "python",
   "nbconvert_exporter": "python",
   "pygments_lexer": "ipython3",
   "version": "3.6.5"
  },
  "toc": {
   "base_numbering": 1,
   "nav_menu": {},
   "number_sections": false,
   "sideBar": true,
   "skip_h1_title": false,
   "title_cell": "Table of Contents",
   "title_sidebar": "Contents",
   "toc_cell": false,
   "toc_position": {},
   "toc_section_display": true,
   "toc_window_display": false
  },
  "varInspector": {
   "cols": {
    "lenName": 16,
    "lenType": 16,
    "lenVar": 40
   },
   "kernels_config": {
    "python": {
     "delete_cmd_postfix": "",
     "delete_cmd_prefix": "del ",
     "library": "var_list.py",
     "varRefreshCmd": "print(var_dic_list())"
    },
    "r": {
     "delete_cmd_postfix": ") ",
     "delete_cmd_prefix": "rm(",
     "library": "var_list.r",
     "varRefreshCmd": "cat(var_dic_list()) "
    }
   },
   "types_to_exclude": [
    "module",
    "function",
    "builtin_function_or_method",
    "instance",
    "_Feature"
   ],
   "window_display": false
  }
 },
 "nbformat": 4,
 "nbformat_minor": 2
}
